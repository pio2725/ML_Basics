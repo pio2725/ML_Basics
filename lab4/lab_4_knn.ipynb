{
 "cells": [
  {
   "cell_type": "markdown",
   "metadata": {
    "id": "DVL7_bgmIAPR"
   },
   "source": [
    "# K-Nearest Neighbor Lab\n",
    "\n",
    "\n",
    "\n"
   ]
  },
  {
   "cell_type": "code",
   "execution_count": 1,
   "metadata": {
    "id": "6ZbYjZZZ_yLV"
   },
   "outputs": [],
   "source": [
    "from sklearn.base import BaseEstimator, ClassifierMixin\n",
    "from sklearn.neighbors import KNeighborsClassifier, KNeighborsRegressor\n",
    "import numpy as np\n",
    "import matplotlib.pyplot as plt\n",
    "import collections\n",
    "from sklearn.metrics import mean_squared_error\n",
    "from sklearn.preprocessing import LabelEncoder\n",
    "from sklearn.model_selection import train_test_split\n",
    "import math"
   ]
  },
  {
   "cell_type": "markdown",
   "metadata": {
    "id": "sCcEPx5VIORj"
   },
   "source": [
    "## 1. (40%) Correctly implement the k-nearest neighbor (KNN) algorithm and the KNN regression algorithm\n",
    "\n",
    "### Code requirements\n",
    "- Use Euclidean distance to decide closest neighbors. \n",
    "- Include optional distance weighting for both algorithms\n"
   ]
  },
  {
   "cell_type": "code",
   "execution_count": 2,
   "metadata": {
    "id": "_a2KSZ_7AN0G"
   },
   "outputs": [],
   "source": [
    "class KNNClassifier(BaseEstimator,ClassifierMixin):\n",
    "    \n",
    "    def __init__(self, columntype=[], weight_type='inverse_distance', regression=False): ## add parameters here\n",
    "        \"\"\"\n",
    "        Args:\n",
    "            columntype for each column tells you if continues[real] or if nominal[categoritcal].\n",
    "            weight_type: inverse_distance voting or if non distance weighting. Options = [\"no_weight\",\"inverse_distance\"]\n",
    "        \"\"\"\n",
    "        self.columntype = columntype #Note This won't be needed until part 5\n",
    "        self.weight_type = weight_type\n",
    "        self.data_points=None\n",
    "        self.labels=None\n",
    "        self.regression=regression\n",
    "\n",
    "    def fit(self, data, labels):\n",
    "        \"\"\" Fit the data; run the algorithm (for this lab really just saves the data :D)\n",
    "        Args:\n",
    "            X (array-like): A 2D numpy array with the training data, excluding targets\n",
    "            y (array-like): A 2D numpy array with the training targets\n",
    "        Returns:\n",
    "            self: this allows this to be chained, e.g. model.fit(X,y).predict(X_test)\n",
    "        \"\"\"\n",
    "        self.data_points=data\n",
    "        self.labels=labels        \n",
    "        return self\n",
    "    \n",
    "    def predict(self, data, k):\n",
    "        \"\"\" Predict all classes for a dataset X\n",
    "        Args:\n",
    "            X (array-like): A 2D numpy array with the training data, excluding targets\n",
    "        Returns:\n",
    "            array, shape (n_samples,)\n",
    "                Predicted target values per element in X.\n",
    "        \"\"\"\n",
    "        if self.weight_type is \"mixed\":\n",
    "            preds=[]\n",
    "            \n",
    "            for i in range(len(data)):\n",
    "                \n",
    "                curr_data = data[i]\n",
    "                dist = []\n",
    "                for j in range(len(self.data_points)):\n",
    "                    temp = []\n",
    "                    curr_point = self.data_points[j]\n",
    "                    \n",
    "                    for col_num, col_type in enumerate(self.columntype):\n",
    "                        if col_type == \"num\":                            \n",
    "                            #unknowns\n",
    "                            if pd.isnull(curr_data[col_num]) or pd.isnull(curr_point[col_num]):\n",
    "                                temp.append(1)\n",
    "                            else:\n",
    "                                temp.append(abs(curr_data[col_num]-curr_point[col_num]) / (max(self.data_points[:,col_num].astype(float)) - min(self.data_points[:,col_num].astype(float))))\n",
    "                             \n",
    "                        elif col_type == \"cat\":\n",
    "                            # 0 if the same, 1 otherwise\n",
    "                            if curr_data[col_num] == curr_point[col_num]:\n",
    "                                temp.append(0)\n",
    "                            else:\n",
    "                                temp.append(1)\n",
    "                                \n",
    "                        temp_np = np.array(temp)\n",
    "                        temp_np = temp_np ** 2\n",
    "                        \n",
    "                    dist.append(np.sum(temp_np))\n",
    "                        \n",
    "                \n",
    "                \n",
    "                dist_dic = dict(zip(dist, self.labels))\n",
    "                dist_dic = collections.OrderedDict(sorted(dist_dic.items()))\n",
    "                dist_dic_knn = {dist:dist_dic[dist] for i, dist in enumerate(dist_dic) if i < k}\n",
    "                s = set(dist_dic_knn.values())\n",
    "                \n",
    "                max_key = None\n",
    "                max_count = -1\n",
    "                for unique_value in s:\n",
    "                    no_weighted_counts = self.get_not_weighted_counts(unique_value, dist_dic_knn)\n",
    "                    if no_weighted_counts > max_count:\n",
    "                        max_count = no_weighted_counts\n",
    "                        max_key = unique_value\n",
    "                preds.append(max_key)\n",
    "        \n",
    "            return preds\n",
    "        \n",
    "        else: \n",
    "            preds = []\n",
    "\n",
    "            for i in range(len(data)):\n",
    "                dist_dic = {}\n",
    "\n",
    "                ucl_dist = np.linalg.norm(self.data_points.astype(float)-data[i].astype(float), axis=1)            \n",
    "\n",
    "                dist_dic = dict(zip(ucl_dist, self.labels))\n",
    "\n",
    "                dist_dic = collections.OrderedDict(sorted(dist_dic.items()))\n",
    "                dist_dic_knn = {dist:dist_dic[dist] for i, dist in enumerate(dist_dic) if i < k}\n",
    "\n",
    "                s = set(dist_dic_knn.values())\n",
    "\n",
    "                if self.regression:\n",
    "\n",
    "                    if self.weight_type is \"no_weight\":      \n",
    "                        values = dist_dic_knn.values()\n",
    "                        preds.append(sum(values) / len(values))\n",
    "                    else:\n",
    "                        s = 0\n",
    "                        s_w = 0\n",
    "                        for dist, val in dist_dic_knn.items():\n",
    "                            s += (1/dist**2)*val\n",
    "                            s_w += (1/dist**2)\n",
    "                        preds.append(s/s_w)           \n",
    "                else:\n",
    "                    if self.weight_type is \"no_weight\":\n",
    "                        max_key = None\n",
    "                        max_count = -1\n",
    "                        for unique_value in s:\n",
    "                            no_weighted_counts = self.get_not_weighted_counts(unique_value, dist_dic_knn)\n",
    "                            if no_weighted_counts > max_count:\n",
    "                                max_count = no_weighted_counts\n",
    "                                max_key = unique_value\n",
    "                        preds.append(max_key)\n",
    "                    else:\n",
    "                        # distance weighting\n",
    "                        # dist_dic_knn = {dist:\"label\"}\n",
    "                        sums = {}\n",
    "                        for unique_value in s:\n",
    "                            weighted_sum = self.get_weighted_sum(unique_value, dist_dic_knn)\n",
    "                            sums[unique_value] = weighted_sum\n",
    "                        max_key = max(sums, key=sums.get)\n",
    "                        preds.append(max_key)\n",
    "\n",
    "            return preds\n",
    "                  \n",
    "    def get_weighted_dist(self, val):\n",
    "        return 1/val**2\n",
    "    \n",
    "    def get_not_weighted_counts(self, label, dic):\n",
    "        count = 0\n",
    "        for key, value in dic.items():\n",
    "            if value == label:\n",
    "                count += 1\n",
    "        return count\n",
    "    \n",
    "    def get_weighted_sum(self, label, dic):\n",
    "        keys=[]\n",
    "        for key, value in dic.items():\n",
    "            if value == label:\n",
    "                keys.append(key)\n",
    "        keys = np.array(keys)\n",
    "        return np.sum(1 / keys ** 2)\n",
    "            \n",
    "    def get_num_match(self, pred, real):\n",
    "        count = 0\n",
    "        for i in range(len(pred)):\n",
    "            if pred[i] == real[i]:\n",
    "                count += 1\n",
    "        return count\n",
    "    \n",
    "    #Returns the Mean score given input data and labels\n",
    "    def score(self, X, y, k):\n",
    "        \"\"\" Return accuracy of model on a given dataset. Must implement own score function.\n",
    "        Args:\n",
    "            X (array-like): A 2D numpy array with data, excluding targets\n",
    "            y (array-like): A 2D numpy array with targets\n",
    "        Returns:\n",
    "            score : float\n",
    "                Mean accuracy of self.predict(X) wrt. y.\n",
    "        \"\"\"\n",
    "        preds = self.predict(X,k)\n",
    "        preds = np.array(preds)\n",
    "        return self.get_num_match(preds, y) / len(y)"
   ]
  },
  {
   "cell_type": "markdown",
   "metadata": {},
   "source": [
    "## 1.1 Debug and Evaluation\n",
    "\n",
    "Debug and Evaluate your model using the parameters below:\n",
    "\n",
    "- Use distance weighting\n",
    "- KNN = 3 (three nearest neighbors)\n",
    "- Don’t normalize the data\n",
    "- Use Euclidean Distance\n",
    "\n",
    "---\n",
    "\n",
    "### 1.1.1 Debug\n",
    "\n",
    "Debug your model by running it on the [seismic bumps](https://archive.ics.uci.edu/ml/datasets/seismic-bumps) problem.\n",
    "- Use this [training set](https://raw.githubusercontent.com/cs472ta/CS472/master/datasets/seismic-bumps_train.arff) and this [test set](https://raw.githubusercontent.com/cs472ta/CS472/master/datasets/seismic-bumps_test.arff)\n",
    "- Use distance weighting\n",
    "- KNN = 3 (three nearest neighbors)\n",
    "- Don’t normalize the data\n",
    "- Use Euclidean Distance\n",
    "\n",
    "Expected Results:\n",
    "- Acc = [93.57]\n",
    "- Link to [debug solution](https://github.com/cs472ta/CS472/blob/master/debug_solutions/seismic-bump-prediction.csv)\n"
   ]
  },
  {
   "cell_type": "code",
   "execution_count": 3,
   "metadata": {},
   "outputs": [
    {
     "name": "stdout",
     "output_type": "stream",
     "text": [
      "Debug dataset accuracy: 0.9357142857142857\n"
     ]
    }
   ],
   "source": [
    "# Load seismic bumps data\n",
    "from scipy.io import arff\n",
    "import pandas as pd\n",
    "seismic_data = arff.loadarff(\"seismic-bumps_train.arff\")\n",
    "seismic_df = pd.DataFrame(seismic_data[0])\n",
    "seismic_df['Class'] = seismic_df['Class'].str.decode('utf-8')\n",
    "seismic_np = np.array(seismic_df)\n",
    "\n",
    "seismic_X_train = seismic_np[:,:-1]\n",
    "seismic_y_train = seismic_np[:,-1]\n",
    "\n",
    "# Train on training set\n",
    "\n",
    "seismic_knn = KNNClassifier()\n",
    "seismic_knn = seismic_knn.fit(seismic_X_train, seismic_y_train)\n",
    "\n",
    "# Predict on test set\n",
    "seismic_data_test = arff.loadarff(\"seismic-bumps_test.arff\")\n",
    "seismic_df_test = pd.DataFrame(seismic_data_test[0])\n",
    "seismic_df_test['Class'] = seismic_df_test['Class'].str.decode('utf-8')\n",
    "seismic_test_np = np.array(seismic_df_test)\n",
    "seismic_X_test = seismic_test_np[:,:-1]\n",
    "seismic_y_test = seismic_test_np[:,-1]\n",
    "\n",
    "#seismic_knn.predict(seismic_X_test, 3)\n",
    "print(\"Debug dataset accuracy:\", seismic_knn.score(seismic_X_test, seismic_y_test, 3))"
   ]
  },
  {
   "cell_type": "markdown",
   "metadata": {},
   "source": [
    "### 1.1.2 Evaluate\n",
    "\n",
    "We will evaluate your model based on its performance on the [diabetes](https://archive.ics.uci.edu/ml/datasets/Diabetes) problem.\n",
    "- Use this [training set](https://raw.githubusercontent.com/cs472ta/CS472/master/datasets/diabetes_train.arff) and this [test set](https://raw.githubusercontent.com/cs472ta/CS472/master/datasets/diabetes_test.arff)"
   ]
  },
  {
   "cell_type": "code",
   "execution_count": 4,
   "metadata": {},
   "outputs": [
    {
     "name": "stdout",
     "output_type": "stream",
     "text": [
      "Eval dataset accuracy: 0.890625\n"
     ]
    }
   ],
   "source": [
    "# Load diabetes data\n",
    "diab_train = arff.loadarff(\"diabetes_train.arff\")\n",
    "diab_df = pd.DataFrame(diab_train[0])\n",
    "diab_df['class'] = diab_df['class'].str.decode('utf-8')\n",
    "diab_np = np.array(diab_df)\n",
    "diab_X_train = diab_np[:,:-1]\n",
    "diab_y_train = diab_np[:,-1]\n",
    "\n",
    "diab_test = arff.loadarff(\"diabetes_test.arff\")\n",
    "diab_df_test = pd.DataFrame(diab_test[0])\n",
    "diab_df_test['class'] = diab_df_test['class'].str.decode('utf-8')\n",
    "diab_np_test = np.array(diab_df_test)\n",
    "diab_X_test = diab_np_test[:,:-1]\n",
    "diab_y_test = diab_np_test[:,-1]\n",
    "\n",
    "# Train on training set\n",
    "diab_knn = KNNClassifier()\n",
    "diab_knn = diab_knn.fit(diab_X_train, diab_y_train)\n",
    "\n",
    "# Predict on test set\n",
    "print(\"Eval dataset accuracy:\", diab_knn.score(diab_X_test, diab_y_test, 3))"
   ]
  },
  {
   "cell_type": "markdown",
   "metadata": {
    "id": "9vWiTdlbR2Xh"
   },
   "source": [
    "## 2. (10%) Use the k-nearest neighbor algorithm (without distance weighting) for the [magic telescope](http://archive.ics.uci.edu/ml/datasets/MAGIC+Gamma+Telescope) problem\n",
    "\n",
    "- Use this [training set](https://raw.githubusercontent.com/cs472ta/CS472/master/datasets/magic_telescope_train.arff) and this [test set](https://raw.githubusercontent.com/cs472ta/CS472/master/datasets/magic_telescope_test.arff) \n",
    "\n",
    "### 2.1\n",
    "- Try it with k=3 and without normalization\n"
   ]
  },
  {
   "cell_type": "code",
   "execution_count": 5,
   "metadata": {
    "id": "4SSoasDQSKXb"
   },
   "outputs": [
    {
     "data": {
      "text/plain": [
       "0.8093309330933093"
      ]
     },
     "execution_count": 5,
     "metadata": {},
     "output_type": "execute_result"
    }
   ],
   "source": [
    "# Load magic telescope data\n",
    "magic_train = arff.loadarff(\"magic_telescope_train.arff\")\n",
    "magic_train_df = pd.DataFrame(magic_train[0])\n",
    "magic_train_df['class'] = magic_train_df['class'].str.decode('utf-8')\n",
    "magic_train_np = np.array(magic_train_df)\n",
    "magic_X_train, magic_y_train = magic_train_np[:,:-1], magic_train_np[:,-1]\n",
    "\n",
    "magic_test = arff.loadarff(\"magic_telescope_test.arff\")\n",
    "magic_test_df = pd.DataFrame(magic_test[0])\n",
    "magic_test_df['class'] = magic_test_df['class'].str.decode('utf-8')\n",
    "magic_test_np = np.array(magic_test_df)\n",
    "magic_X_test, magic_y_test = magic_test_np[:,:-1], magic_test_np[:,-1]\n",
    "\n",
    "magic_knn = KNNClassifier(weight_type='no_weight')\n",
    "magic_knn = magic_knn.fit(magic_X_train, magic_y_train)\n",
    "\n",
    "# Train/Predict without normalization\n",
    "magic_knn.score(magic_X_test, magic_y_test, 3)"
   ]
  },
  {
   "cell_type": "markdown",
   "metadata": {},
   "source": [
    "### 2.2\n",
    "- Try it with k=3 and with normalization (input features normalized between 0 and 1). Use the normalization formula (x-xmin)/(xmax-xmin)"
   ]
  },
  {
   "cell_type": "code",
   "execution_count": 151,
   "metadata": {},
   "outputs": [
    {
     "data": {
      "text/plain": [
       "0.816981698169817"
      ]
     },
     "execution_count": 151,
     "metadata": {},
     "output_type": "execute_result"
    }
   ],
   "source": [
    "# Train/Predict with normalization\n",
    "#norm = (magic_train_df - magic_train_df.min()) / (magic_train_df.max() - magic_train_df.min())\n",
    "target_col = magic_train_df['class']\n",
    "temp = magic_train_df.drop(columns=['class'])\n",
    "norm_magic_train_df = (temp - temp.min()) / (temp.max() - temp.min())\n",
    "norm_magic_train_df['class'] = target_col\n",
    "np_norm = np.array(norm_magic_train_df)\n",
    "magic_X_train_norm, magic_y_train_norm = np_norm[:,:-1], np_norm[:,-1]\n",
    "\n",
    "target_col = magic_test_df['class']\n",
    "temp = magic_test_df.drop(columns=['class'])\n",
    "norm_magic_test_df = (temp - temp.min()) / (temp.max() - temp.min())\n",
    "norm_magic_test_df['class'] = target_col\n",
    "np_norm = np.array(norm_magic_test_df)\n",
    "magic_X_test_norm, magic_y_test_norm = np_norm[:,:-1], np_norm[:,-1]\n",
    "\n",
    "magic_norm_knn = KNNClassifier(weight_type='no_weight')\n",
    "magic_norm_knn = magic_norm_knn.fit(magic_X_train_norm, magic_y_train_norm)\n",
    "\n",
    "magic_norm_knn.score(magic_X_test_norm, magic_y_test_norm, 3)"
   ]
  },
  {
   "cell_type": "markdown",
   "metadata": {},
   "source": [
    "*Discuss the accuracy results of using normalized data vs. unnormalized data*\n",
    "\n",
    "Using unnormalized data, I got about 80.9% accuracy for the magic data. Using normalization, however, the accuarcy was about 81.7%, so I was able to see 0.8% increase by normazling the data."
   ]
  },
  {
   "cell_type": "markdown",
   "metadata": {},
   "source": [
    "### 2.3\n",
    "\n",
    "- Using your normalized data, create one graph with classification accuracy on the test set over k values. \n",
    "    - Use odd values of k from 1 to 15.\n",
    "- As a rough sanity check, typical knn accuracies for the magic telescope data set are 75-85%"
   ]
  },
  {
   "cell_type": "code",
   "execution_count": 107,
   "metadata": {},
   "outputs": [],
   "source": [
    "# Train/Predict with normalization using k=1,3,...,15\n",
    "ks = np.arange(1,17,2)\n",
    "knn_magic = KNNClassifier(weight_type='no_weight')\n",
    "knn_magic = knn_magic.fit(magic_X_train_norm, magic_y_train_norm)\n",
    "acc = []\n",
    "for k in ks:\n",
    "    score = knn_magic.score(magic_X_test_norm, magic_y_test_norm, k)\n",
    "    acc.append(score)"
   ]
  },
  {
   "cell_type": "code",
   "execution_count": 112,
   "metadata": {},
   "outputs": [
    {
     "name": "stdout",
     "output_type": "stream",
     "text": [
      "[0.7874287428742874, 0.816981698169817, 0.8258325832583259, 0.8286828682868287, 0.8279327932793279, 0.8286828682868287, 0.8297329732973298, 0.8297329732973298]\n"
     ]
    },
    {
     "data": {
      "image/png": "[encoded data removed]",
      "text/plain": [
       "<Figure size 432x288 with 1 Axes>"
      ]
     },
     "metadata": {
      "needs_background": "light"
     },
     "output_type": "display_data"
    }
   ],
   "source": [
    "# Graph classification accuracy over k\n",
    "plt.plot(ks, acc)\n",
    "plt.title(\"K vs Accuracy\")\n",
    "plt.xlabel(\"K\")\n",
    "plt.ylabel(\"Accuracy\")\n",
    "print(acc)\n",
    "plt.show()"
   ]
  },
  {
   "cell_type": "markdown",
   "metadata": {},
   "source": [
    "# For the rest of the experiments use only normalized data"
   ]
  },
  {
   "cell_type": "markdown",
   "metadata": {
    "id": "SIRG42TgSR4x"
   },
   "source": [
    "## 3. (10%) Use the regression variation of your algorithm (without distance weighting) for the [housing price prediction](https://www.cs.toronto.edu/~delve/data/boston/bostonDetail.html) problem.\n",
    "\n",
    "- Use this [training set](https://raw.githubusercontent.com/cs472ta/CS472/master/datasets/housing_train.arff) and this [test set](https://raw.githubusercontent.com/cs472ta/CS472/master/datasets/housing_test.arff).\n",
    "- Use Mean Square Error (MSE) on the test set as your accuracy metric for this case.\n",
    "    - Do not normalize regression output values\n",
    "- Graph MSE on the test set with odd values of k from 1 to 15\n"
   ]
  },
  {
   "cell_type": "code",
   "execution_count": 166,
   "metadata": {
    "id": "KBGUn43ASiXW"
   },
   "outputs": [],
   "source": [
    "# Load housing price prediction data\n",
    "house_train = arff.loadarff(\"housing_train.arff\")\n",
    "house_train_df = pd.DataFrame(house_train[0])\n",
    "house_train_df['CHAS'] = house_train_df['CHAS'].str.decode('utf-8')\n",
    "house_train_df['CHAS'] = house_train_df['CHAS'].astype(float)\n",
    "tar = house_train_df['MEDV']\n",
    "temp = house_train_df.drop(columns=['MEDV'])\n",
    "norm_house_train_df = (temp - temp.min()) / (temp.max() - temp.min())\n",
    "norm_house_train_df['MEDV'] = tar\n",
    "norm_house_train_np = np.array(norm_house_train_df)\n",
    "norm_X_train, norm_y_train = norm_house_train_np[:,:-1], norm_house_train_np[:,-1]\n",
    "\n",
    "house_test = arff.loadarff(\"housing_test.arff\")\n",
    "house_test_df = pd.DataFrame(house_test[0])\n",
    "house_test_df['CHAS'] = house_test_df['CHAS'].str.decode('utf-8')\n",
    "house_test_df['CHAS'] = house_test_df['CHAS'].astype(float)\n",
    "tar = house_test_df['MEDV']\n",
    "temp = house_test_df.drop(columns=['MEDV'])\n",
    "norm_house_test_df = (temp - temp.min()) / (temp.max() - temp.min())\n",
    "norm_house_test_df['MEDV'] = tar\n",
    "norm_house_test_np = np.array(norm_house_test_df)\n",
    "norm_X_test, norm_y_test = norm_house_test_np[:,:-1], norm_house_test_np[:,-1]"
   ]
  },
  {
   "cell_type": "code",
   "execution_count": 85,
   "metadata": {},
   "outputs": [],
   "source": [
    "# Train/Predict using k=1,3,...,15\n",
    "ks = np.arange(1,17,2)\n",
    "house_norm_knn = KNNClassifier(weight_type='no_weight', regression=True)\n",
    "house_norm_knn = house_norm_knn.fit(norm_X_train, norm_y_train)\n",
    "\n",
    "mse = []\n",
    "for k in ks:\n",
    "    m = mean_squared_error(norm_y_test, house_norm_knn.predict(norm_X_test, k))\n",
    "    mse.append(m)"
   ]
  },
  {
   "cell_type": "code",
   "execution_count": 89,
   "metadata": {},
   "outputs": [
    {
     "data": {
      "image/png": "[encoded data removed]",
      "text/plain": [
       "<Figure size 432x288 with 1 Axes>"
      ]
     },
     "metadata": {
      "needs_background": "light"
     },
     "output_type": "display_data"
    }
   ],
   "source": [
    "# Graph MSE over k\n",
    "plt.plot(ks, mse)\n",
    "plt.title(\"K vs MSE (Housing Data)\")\n",
    "plt.xlabel(\"K\")\n",
    "plt.ylabel(\"MSE (Housing Data)\")\n",
    "plt.show()"
   ]
  },
  {
   "cell_type": "markdown",
   "metadata": {
    "id": "v19fpixqTe-7"
   },
   "source": [
    "## 4. (15%) Repeat your experiments for magic telescope and housing using distance-weighted (inverse of distance squared) voting and discuss your results.\n"
   ]
  },
  {
   "cell_type": "code",
   "execution_count": 121,
   "metadata": {
    "id": "ZCPFUAGTS2sX"
   },
   "outputs": [
    {
     "data": {
      "image/png": "[encoded data removed]",
      "text/plain": [
       "<Figure size 432x288 with 1 Axes>"
      ]
     },
     "metadata": {
      "needs_background": "light"
     },
     "output_type": "display_data"
    }
   ],
   "source": [
    "# Train/Predict magic telescope using distance-weighted voting\n",
    "magic_d_knn = KNNClassifier(weight_type=\"inverse_distance\", regression=False)\n",
    "magic_d_knn = magic_d_knn.fit(magic_X_train_norm, magic_y_train_norm)\n",
    "mse = []\n",
    "for k in ks:\n",
    "    m = mean_squared_error(LabelEncoder().fit_transform(magic_y_test_norm), LabelEncoder().fit_transform(magic_d_knn.predict(magic_X_test_norm, k)))\n",
    "    mse.append(m)\n",
    "plt.plot(ks, mse)\n",
    "plt.title(\"K vs MSE (Magic Telescope Data)\")\n",
    "plt.xlabel(\"K\")\n",
    "plt.ylabel(\"MSE (Magic Telescope Data)\")\n",
    "plt.show()"
   ]
  },
  {
   "cell_type": "code",
   "execution_count": 128,
   "metadata": {},
   "outputs": [
    {
     "data": {
      "image/png": "[encoded data removed]",
      "text/plain": [
       "<Figure size 432x288 with 1 Axes>"
      ]
     },
     "metadata": {
      "needs_background": "light"
     },
     "output_type": "display_data"
    }
   ],
   "source": [
    "# Train/Predict housing using distance-weighted voting\n",
    "house_d_knn = KNNClassifier(weight_type=\"inverse_distance\", regression=True)\n",
    "house_d_knn = house_d_knn.fit(norm_X_train, norm_y_train)\n",
    "mse = []\n",
    "for k in ks:\n",
    "    m = mean_squared_error(norm_y_test, house_d_knn.predict(norm_X_test, k))\n",
    "    mse.append(m)\n",
    "plt.plot(ks, mse)\n",
    "plt.title(\"K vs MSE (Housing Data Weighted)\")\n",
    "plt.xlabel(\"K\")\n",
    "plt.ylabel(\"MSE (Housing Data Weighted)\")\n",
    "plt.show()"
   ]
  },
  {
   "cell_type": "markdown",
   "metadata": {},
   "source": [
    "For the magic telescope data, the mean squared error was the lowest around 13 as k value. For the housing data, however, I got the lowest mean squared error when k was 6 or 7 for the regression problem. MSE was high when I used the unnormalized data for the housing prediction model, but it was much lower when I used the normalized data, and the best k value was also different between those two models."
   ]
  },
  {
   "cell_type": "markdown",
   "metadata": {},
   "source": [
    "## 5. (10%) Use the k-nearest neighbor algorithm to solve the [credit-approval](https://archive.ics.uci.edu/ml/datasets/Credit+Approval) (credit-a) problem.\n",
    "\n",
    "- Use this [dataset](https://raw.githubusercontent.com/cs472ta/CS472/master/datasets/credit_approval.arff)\n",
    "    - Use a 70/30 split of the data for the training/test set\n",
    "- Note that this set has both continuous and nominal attributes, together with don’t know values. \n",
    "- Implement and justify a distance metric which supports continuous, nominal, and don’t know attribute values\n",
    "    - You need to handle don't knows with the distance metric, not by imputing a value.\n",
    "    - More information on distance metrics can be found [here](https://www.jair.org/index.php/jair/article/view/10182/24168).\n",
    "- Use your own choice for k.\n",
    "- As a rough sanity check, typical knn accuracies for the credit data set are 70-80%.\n"
   ]
  },
  {
   "cell_type": "code",
   "execution_count": 144,
   "metadata": {},
   "outputs": [
    {
     "name": "stdout",
     "output_type": "stream",
     "text": [
      "0.8743961352657005\n"
     ]
    }
   ],
   "source": [
    "# Load dataset and split into train/test sets\n",
    "credit = arff.loadarff(\"credit_approval.arff\")\n",
    "credit_df = pd.DataFrame(credit[0])\n",
    "str_df = credit_df.select_dtypes([np.object])\n",
    "str_df = str_df.stack().str.decode('utf-8').unstack()\n",
    "for col in str_df:\n",
    "    credit_df[col]=str_df[col]\n",
    "    \n",
    "# normalize\n",
    "temp = credit_df[[\"A2\",\"A3\",\"A8\",\"A11\",\"A14\",\"A15\"]]\n",
    "temp = (temp - temp.min()) / (temp.max() - temp.min())\n",
    "credit_df[[\"A2\",\"A3\",\"A8\",\"A11\",\"A14\",\"A15\"]] = temp\n",
    "#credit_df = credit_df.replace(['?'], np.nan)\n",
    "#credit_df.fillna('?')\n",
    "credit_train_np = np.array(credit_df)\n",
    "X,y = credit_train_np[:,:-1], credit_train_np[:,-1]\n",
    "\n",
    "X_train, X_test, y_train, y_test = train_test_split(X,y, test_size=0.3)  \n",
    "    \n",
    "col_types = [\"cat\",\"num\",\"num\",\"cat\",\"cat\",\"cat\",\"cat\",\"num\",\"cat\",\"cat\",\"num\",\"cat\",\"cat\",\"num\",\"num\"] # without output class\n",
    "credit_knn = KNNClassifier(col_types, weight_type=\"mixed\")\n",
    "credit_knn = credit_knn.fit(X_train, y_train)\n",
    "p = credit_knn.predict(X_test, 3)\n",
    "# Train/Predict credit-approval\n",
    "\n",
    "print(credit_knn.score(X_test, y_test, 7))"
   ]
  },
  {
   "cell_type": "markdown",
   "metadata": {},
   "source": [
    "*Explain and justify your distance metric*\n",
    "\n",
    "I used Heterogeneous Euclidean-Overlap Metric (HEOM) to deal with both continuous and nominal values.\n",
    "First, if an attribute is categorical, the algorithm returns 0 if they are the same class, otherwise 1.\n",
    "Second, if numerical, it computes the range-normalized difference as explained in the paper. \n",
    "Lastly, if there is a missing value, it returns a maximum distance which is 1, and calcualte the sum of the squared result vector.\n",
    "\n",
    "I explored some different k values and found that 7 gave the best result of about 87%. "
   ]
  },
  {
   "cell_type": "markdown",
   "metadata": {
    "id": "oBBmeNQ7jvcQ"
   },
   "source": [
    "## 6. (15%) Use the scikit's KNN Classifier on magic telescope and KNN Regressor on housing and compare your results.\n",
    "\n",
    "- Try out different hyperparameters to see how well you can do. \n"
   ]
  },
  {
   "cell_type": "code",
   "execution_count": 198,
   "metadata": {
    "id": "OFQv70W2VyqJ"
   },
   "outputs": [
    {
     "name": "stdout",
     "output_type": "stream",
     "text": [
      "Magic telescope Accuracy:  0.8288142452448402\n",
      "Housing Data Accuracy:  0.8285306817927963\n"
     ]
    }
   ],
   "source": [
    "from sklearn.neighbors import KNeighborsClassifier\n",
    "from sklearn.neighbors import KNeighborsRegressor\n",
    "from sklearn import metrics\n",
    "\n",
    "# Train/Predict magic telescope using scikit's KNN\n",
    "np_magic = np.array(norm_magic_train_df)\n",
    "X,y = np_magic[:,:-1], np_magic[:,-1]\n",
    "X_train, X_test, y_train , y_test = train_test_split(X, y, test_size = 0.2)\n",
    "\n",
    "neigh = KNeighborsClassifier(n_neighbors=8, weights=\"distance\")\n",
    "neigh.fit(X_train, y_train)\n",
    "pred = neigh.predict(X_test)\n",
    "print(\"Magic telescope Accuracy: \", metrics.accuracy_score(y_test, pred))\n",
    "\n",
    "# Train/Predict housing using scikit's KNN\n",
    "neigh = KNeighborsRegressor(n_neighbors=5, weights=\"distance\", algorithm=\"kd_tree\")\n",
    "neigh.fit(norm_X_train, norm_y_train)\n",
    "pred = neigh.predict(norm_X_test)\n",
    "print(\"Housing Data Accuracy: \", neigh.score(norm_X_test, norm_y_test))"
   ]
  },
  {
   "cell_type": "markdown",
   "metadata": {
    "id": "BqSFAXwlk3Ms"
   },
   "source": [
    "*Report your comparison*\n",
    "For the magic telescope data, I got pretty the same result as that from sklearn classifier. I tried different weightings, neighbors, and other algorithms for the regression problem.\n",
    "The accuracy for the housing data was also similar to the one that I implemented. For both datasets, the accuracies were about 83% each."
   ]
  },
  {
   "cell_type": "markdown",
   "metadata": {
    "id": "cTlK-kijk8Mg"
   },
   "source": [
    "## 7. (optional 5% extra credit): For the best value of k for any one of the datasets, implement a reduction algorithm that removes data points in some rational way such that performance does not drop too drastically on the test set given the reduced training set.\n",
    "\n",
    "- Compare your performance on the test set for the reduced and non-reduced versions and give the number (and percentage) of training examples removed from the original training set. How well does your reduction algorithm work?\n",
    "    - Note that performance for magic telescope is classification accuracy and for housing it is mean squared error.\n",
    "    - Magic Telescope has about 12,000 instances and if you use a leave one out style of testing for your data set reduction, then your algorithm will run slow since that is n2 at each step.\n",
    "    - If you wish, you may use a random subset of 2,000 of the magic telescope instances.\n",
    "    - More information on reduction techniques can be found [here](http://axon.cs.byu.edu/~martinez/classes/478/slides/IBL.pdf).\n"
   ]
  },
  {
   "cell_type": "code",
   "execution_count": null,
   "metadata": {
    "id": "5iY77P7gk1Nh"
   },
   "outputs": [],
   "source": []
  }
 ],
 "metadata": {
  "colab": {
   "collapsed_sections": [],
   "name": "lab 1 - perceptron",
   "provenance": []
  },
  "kernelspec": {
   "display_name": "Python 3",
   "language": "python",
   "name": "python3"
  },
  "language_info": {
   "codemirror_mode": {
    "name": "ipython",
    "version": 3
   },
   "file_extension": ".py",
   "mimetype": "text/x-python",
   "name": "python",
   "nbconvert_exporter": "python",
   "pygments_lexer": "ipython3",
   "version": "3.7.6"
  }
 },
 "nbformat": 4,
 "nbformat_minor": 4
}
