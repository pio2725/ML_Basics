{
 "cells": [
  {
   "cell_type": "code",
   "execution_count": 5,
   "metadata": {
    "colab": {},
    "colab_type": "code",
    "id": "iQSXkG19wJeQ"
   },
   "outputs": [],
   "source": [
    "import pandas as pd\n",
    "import numpy as np\n",
    "from pprint import pprint"
   ]
  },
  {
   "cell_type": "code",
   "execution_count": 6,
   "metadata": {},
   "outputs": [],
   "source": [
    "from math import log\n",
    "import pandas as pd\n",
    "import random\n",
    "\n",
    "\n",
    "class CustomDecisionTree():\n",
    "    def __init__(self):\n",
    "        pass\n",
    "\n",
    "    def majorityCnt(self, classList):\n",
    "        classCount = {}\n",
    "        for vote in classList:\n",
    "            if vote not in classCount.keys():\n",
    "                classCount[vote] = 0\n",
    "            classCount[vote] += 1\n",
    "        sortedClassCount = sorted(classCount.items(), reverse=True)\n",
    "        return sortedClassCount[0][0]\n",
    "\n",
    "    # for calculting entropy\n",
    "    def calcShannonEnt(self, dataSet):\n",
    "        numEntries = len(dataSet)\n",
    "        labelCounts = {}\n",
    "        for featVec in dataSet:\n",
    "            currentLabel = featVec[-1]\n",
    "            if currentLabel not in labelCounts.keys():\n",
    "                labelCounts[currentLabel] = 0\n",
    "                labelCounts[currentLabel] += 1\n",
    "        shannonEnt = 0.0\n",
    "        for key in labelCounts:\n",
    "            prob = float(labelCounts[key])/numEntries\n",
    "            shannonEnt -= prob * log(prob, 2)\n",
    "        return shannonEnt\n",
    "\n",
    "    def splitDataSet(self, dataSet, axis, value):\n",
    "        retDataSet = []\n",
    "        for featVec in dataSet:\n",
    "            if featVec[axis] == value:\n",
    "                reducedFeatVec = featVec[:axis]\n",
    "                reducedFeatVec.extend(featVec[axis+1:])\n",
    "                retDataSet.append(reducedFeatVec)\n",
    "        return retDataSet\n",
    "\n",
    "    # choosing the best feature to split\n",
    "    def chooseBestFeatureToSplit(self, dataSet, labels):\n",
    "        numFeatures = len(dataSet[0]) - 1\n",
    "        baseEntropy = self.calcShannonEnt(dataSet)\n",
    "        bestInfoGain = -1\n",
    "        bestFeature = 0\n",
    "        for i in range(numFeatures):\n",
    "            featList = [example[i] for example in dataSet]\n",
    "            uniqueVals = set(featList)\n",
    "            newEntropy = 0.0\n",
    "            for value in uniqueVals:\n",
    "                subDataSet = self.splitDataSet(dataSet, i, value)\n",
    "                prob = len(subDataSet)/float(len(dataSet))\n",
    "                newEntropy += prob * self.calcShannonEnt(subDataSet)\n",
    "            infoGain = baseEntropy - newEntropy\n",
    "            print(infoGain, bestInfoGain)\n",
    "            if (infoGain > bestInfoGain):\n",
    "                bestInfoGain = infoGain\n",
    "                bestFeature = i\n",
    "\n",
    "        print(\"the best feature to split is\", labels[bestFeature])\n",
    "        return bestFeature\n",
    "\n",
    "    # function to build tree recursively\n",
    "    def createTree(self, dataSet, labels):\n",
    "        classList = [example[-1] for example in dataSet]\n",
    "        if len(classList) is 0:\n",
    "            return\n",
    "\n",
    "        if classList.count(classList[0]) == len(classList):\n",
    "            return classList[0]\n",
    "        if len(dataSet[0]) == 1:\n",
    "            return self.majorityCnt(classList)\n",
    "        featureVectorList = [row[:len(row)-1] for row in dataSet]\n",
    "        bestFeat = self.chooseBestFeatureToSplit(featureVectorList, labels)\n",
    "        bestFeatLabel = labels[bestFeat]\n",
    "        myTree = {bestFeatLabel: {}}\n",
    "        del(labels[bestFeat])\n",
    "        featValues = [example[bestFeat] for example in dataSet]\n",
    "        uniqueVals = set(featValues)\n",
    "        for value in uniqueVals:\n",
    "            subLabels = labels[:]\n",
    "            myTree[bestFeatLabel][value] = self.createTree(\n",
    "                self.splitDataSet(dataSet, bestFeat, value), subLabels)\n",
    "        return myTree\n"
   ]
  },
  {
   "cell_type": "code",
   "execution_count": 8,
   "metadata": {},
   "outputs": [
    {
     "ename": "FileNotFoundError",
     "evalue": "[Errno 2] No such file or directory: 'lenses.arff'",
     "output_type": "error",
     "traceback": [
      "\u001b[1;31m---------------------------------------------------------------------------\u001b[0m",
      "\u001b[1;31mFileNotFoundError\u001b[0m                         Traceback (most recent call last)",
      "\u001b[1;32m<ipython-input-8-b90f42bb3316>\u001b[0m in \u001b[0;36m<module>\u001b[1;34m\u001b[0m\n\u001b[0;32m      3\u001b[0m \u001b[1;33m\u001b[0m\u001b[0m\n\u001b[0;32m      4\u001b[0m \u001b[1;31m# Load debug data\u001b[0m\u001b[1;33m\u001b[0m\u001b[1;33m\u001b[0m\u001b[1;33m\u001b[0m\u001b[0m\n\u001b[1;32m----> 5\u001b[1;33m \u001b[0mlenses\u001b[0m \u001b[1;33m=\u001b[0m \u001b[0marff\u001b[0m\u001b[1;33m.\u001b[0m\u001b[0mloadarff\u001b[0m\u001b[1;33m(\u001b[0m\u001b[1;34m\"lenses.arff\"\u001b[0m\u001b[1;33m)\u001b[0m\u001b[1;33m\u001b[0m\u001b[1;33m\u001b[0m\u001b[0m\n\u001b[0m\u001b[0;32m      6\u001b[0m \u001b[0mlenses_df\u001b[0m \u001b[1;33m=\u001b[0m \u001b[0mpd\u001b[0m\u001b[1;33m.\u001b[0m\u001b[0mDataFrame\u001b[0m\u001b[1;33m(\u001b[0m\u001b[0mlenses\u001b[0m\u001b[1;33m[\u001b[0m\u001b[1;36m0\u001b[0m\u001b[1;33m]\u001b[0m\u001b[1;33m)\u001b[0m\u001b[1;33m\u001b[0m\u001b[1;33m\u001b[0m\u001b[0m\n\u001b[0;32m      7\u001b[0m \u001b[1;33m\u001b[0m\u001b[0m\n",
      "\u001b[1;32m~\\anaconda3\\lib\\site-packages\\scipy\\io\\arff\\arffread.py\u001b[0m in \u001b[0;36mloadarff\u001b[1;34m(f)\u001b[0m\n\u001b[0;32m    801\u001b[0m         \u001b[0mofile\u001b[0m \u001b[1;33m=\u001b[0m \u001b[0mf\u001b[0m\u001b[1;33m\u001b[0m\u001b[1;33m\u001b[0m\u001b[0m\n\u001b[0;32m    802\u001b[0m     \u001b[1;32melse\u001b[0m\u001b[1;33m:\u001b[0m\u001b[1;33m\u001b[0m\u001b[1;33m\u001b[0m\u001b[0m\n\u001b[1;32m--> 803\u001b[1;33m         \u001b[0mofile\u001b[0m \u001b[1;33m=\u001b[0m \u001b[0mopen\u001b[0m\u001b[1;33m(\u001b[0m\u001b[0mf\u001b[0m\u001b[1;33m,\u001b[0m \u001b[1;34m'rt'\u001b[0m\u001b[1;33m)\u001b[0m\u001b[1;33m\u001b[0m\u001b[1;33m\u001b[0m\u001b[0m\n\u001b[0m\u001b[0;32m    804\u001b[0m     \u001b[1;32mtry\u001b[0m\u001b[1;33m:\u001b[0m\u001b[1;33m\u001b[0m\u001b[1;33m\u001b[0m\u001b[0m\n\u001b[0;32m    805\u001b[0m         \u001b[1;32mreturn\u001b[0m \u001b[0m_loadarff\u001b[0m\u001b[1;33m(\u001b[0m\u001b[0mofile\u001b[0m\u001b[1;33m)\u001b[0m\u001b[1;33m\u001b[0m\u001b[1;33m\u001b[0m\u001b[0m\n",
      "\u001b[1;31mFileNotFoundError\u001b[0m: [Errno 2] No such file or directory: 'lenses.arff'"
     ]
    }
   ],
   "source": [
    "from scipy.io import arff\n",
    "import pandas as pd\n",
    "\n",
    "# Load debug data\n",
    "lenses = arff.loadarff(\"lenses.arff\")\n",
    "lenses_df = pd.DataFrame(lenses[0])\n",
    "\n",
    "str_df = lenses_df.select_dtypes([np.object])\n",
    "str_df = str_df.stack().str.decode('utf-8').unstack()\n",
    "for col in str_df:\n",
    "    lenses_df[col]=str_df[col]\n",
    "lenses_np = np.array(lenses_df)\n",
    "lenses_df"
   ]
  },
  {
   "cell_type": "code",
   "execution_count": null,
   "metadata": {},
   "outputs": [],
   "source": []
  }
 ],
 "metadata": {
  "colab": {
   "name": "Dtree.ipynb",
   "provenance": []
  },
  "kernelspec": {
   "display_name": "Python 3",
   "language": "python",
   "name": "python3"
  },
  "language_info": {
   "codemirror_mode": {
    "name": "ipython",
    "version": 3
   },
   "file_extension": ".py",
   "mimetype": "text/x-python",
   "name": "python",
   "nbconvert_exporter": "python",
   "pygments_lexer": "ipython3",
   "version": "3.7.6"
  }
 },
 "nbformat": 4,
 "nbformat_minor": 4
}
