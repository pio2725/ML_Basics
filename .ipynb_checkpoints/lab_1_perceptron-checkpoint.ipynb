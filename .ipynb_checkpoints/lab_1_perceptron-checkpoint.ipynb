{
 "cells": [
  {
   "cell_type": "markdown",
   "metadata": {
    "id": "DVL7_bgmIAPR"
   },
   "source": [
    "# Perceptron Lab\n",
    "\n",
    "\n",
    "\n"
   ]
  },
  {
   "cell_type": "code",
   "execution_count": 1,
   "metadata": {
    "id": "6ZbYjZZZ_yLV"
   },
   "outputs": [],
   "source": [
    "from sklearn.base import BaseEstimator, ClassifierMixin\n",
    "from sklearn.linear_model import Perceptron\n",
    "import numpy as np\n",
    "import matplotlib.pyplot as plt"
   ]
  },
  {
   "cell_type": "markdown",
   "metadata": {
    "id": "sCcEPx5VIORj"
   },
   "source": [
    "## 1. (40%) Correctly implement and submit your own code for the perceptron learning algorithm. \n",
    "\n",
    "### Code requirements\n",
    "- Shuffle the data each epoch.\n",
    "- A way to create a random train/test split. Write your own. In the future you can use the scikit-learn version if you want.\n",
    "- Use Stochastic/On-line training updates: Iterate and update weights after each training instance (i.e. do not attempt batch updates)\n",
    "- Implement a stopping criteria: when your model has trained for a number of epochs with no significant improvement in accuracy, stop training. Note that the weights/accuracy do not usually change monotonically.\n",
    "- Use your perceptron to solve the Debug data. We provide you with several parameters, and you should be able to replicate our results every time. When you are confident it is correct, run your perceptron on the Evaluation data with the same parameters, and include your final weights in your report PDF."
   ]
  },
  {
   "cell_type": "code",
   "execution_count": 2,
   "metadata": {
    "id": "_a2KSZ_7AN0G"
   },
   "outputs": [],
   "source": [
    "class PerceptronClassifier(BaseEstimator,ClassifierMixin):\n",
    "\n",
    "    def __init__(self, lr=.1, shuffle=True, random_weight=True, deterministic=False):\n",
    "        \"\"\" \n",
    "            Initialize class with chosen hyperparameters.\n",
    "        Args:\n",
    "            lr (float): A learning rate / step size.\n",
    "            shuffle: Whether to shuffle the training data each epoch. DO NOT \n",
    "            SHUFFLE for evaluation / debug datasets.\n",
    "        \"\"\"\n",
    "        self.lr = lr\n",
    "        self.shuffle = shuffle\n",
    "        self.random_weight = random_weight\n",
    "        if deterministic:\n",
    "            self.epoch = 10\n",
    "        else:\n",
    "            self.epoch = 0\n",
    "\n",
    "    def fit(self, X, y, initial_weights=None):\n",
    "        \"\"\" \n",
    "            Fit the data; run the algorithm and adjust the weights to find a \n",
    "            good solution\n",
    "        Args:\n",
    "            X (array-like): A 2D numpy array with the training data, excluding\n",
    "            targets\n",
    "            y (array-like): A 2D numpy array with the training targets\n",
    "            initial_weights (array-like): allows the user to provide initial \n",
    "            weights\n",
    "        Returns:\n",
    "            self: this allows this to be chained, e.g. model.fit(X,y).predict(X_test)\n",
    "        \"\"\"\n",
    "        self.input_size = X.shape[1]\n",
    "        \n",
    "        \n",
    "        #self.initial_weights = self.initialize_weights() if not initial_weights else initial_weights\n",
    "        if initial_weights is None:\n",
    "            self.initialize_weights()\n",
    "        \n",
    "            \n",
    "        \n",
    "        if self.epoch == 0:\n",
    "            for _ in range(1):\n",
    "                for i in range(y.shape[1]):\n",
    "                    x_added_bias = np.insert(X[i], len(X[i]), 1)\n",
    "                    d = self.activation(x_added_bias)\n",
    "                    e = y[0,i] - d\n",
    "                    #print(\"delta = \", self.lr * e * x_added_bias)\n",
    "                    #print(\"current weights = \", self.weights)\n",
    "                    #print(\"e = \", e)\n",
    "                    self.weights = self.weights + self.lr * e * x_added_bias\n",
    "                if self.shuffle:\n",
    "                    X,y = self._shuffle_data(X,y)\n",
    "        \n",
    "        \n",
    "        else:\n",
    "            for _ in range(self.epoch):\n",
    "                for i in range(y.shape[1]):\n",
    "                    x_added_bias = np.insert(X[i], len(X[i]), 1)\n",
    "                    d = self.activation(x_added_bias)\n",
    "                    e = y[0,i] - d\n",
    "                    self.weights = self.weights + self.lr * e * x_added_bias\n",
    "                if self.shuffle:\n",
    "                    X,y = self._shuffle_data(X,y)\n",
    "\n",
    "        return self\n",
    "    \n",
    "    def activation(self, X):\n",
    "        z = self.weights.T.dot(X)\n",
    "        return 1 if z > 0 else 0\n",
    "\n",
    "    def predict(self, X):\n",
    "        \"\"\" \n",
    "            Predict all classes for a dataset X\n",
    "        Args:\n",
    "            X (array-like): A 2D numpy array with the training data, excluding \n",
    "            targets\n",
    "        Returns:\n",
    "            array, shape (n_samples,)\n",
    "                Predicted target values per element in X.\n",
    "        \"\"\"\n",
    "        result = np.array([])\n",
    "        for i in range(len(X)):\n",
    "            z = self.weights.T.dot(np.insert(X[i], len(X[i]), 1))\n",
    "            if z > 0:\n",
    "                result = np.append(result, 1)\n",
    "            else:\n",
    "                result = np.append(result, 0) \n",
    "        return result\n",
    "        \n",
    "\n",
    "    def initialize_weights(self):\n",
    "        \"\"\" Initialize weights for perceptron. Don't forget the bias!\n",
    "        Returns:\n",
    "        \"\"\"\n",
    "        if self.random_weight:\n",
    "            self.weights = np.random.uniform(-1,1, self.input_size + 1)\n",
    "        else:\n",
    "            self.weights = np.zeros(self.input_size + 1)\n",
    "        return [0]\n",
    "\n",
    "    def score(self, X, y):\n",
    "        \"\"\" \n",
    "            Return accuracy of model on a given dataset. Must implement own \n",
    "            score function.\n",
    "        Args:\n",
    "            X (array-like): A 2D numpy array with data, excluding targets\n",
    "            y (array-like): A 2D numpy array with targets\n",
    "        Returns:\n",
    "            score : float\n",
    "                Mean accuracy of self.predict(X) wrt. y.\n",
    "        \"\"\"\n",
    "        result = self.predict(X)\n",
    "        return np.count_nonzero(result == y[0,:]) / len(result)\n",
    "        \n",
    "\n",
    "    def _shuffle_data(self, X, y):\n",
    "        \"\"\" \n",
    "            Shuffle the data! This _ prefix suggests that this method should \n",
    "            only be called internally.\n",
    "            It might be easier to concatenate X & y and shuffle a single 2D \n",
    "            array, rather than shuffling X and y exactly the same way, \n",
    "            independently.\n",
    "        \"\"\"\n",
    "        X_temp = X\n",
    "        y_temp = y.flatten()\n",
    "        temp = np.column_stack((X_temp, y_temp))\n",
    "        np.random.shuffle(temp)\n",
    "        X_result = temp[:,:-1]\n",
    "        y_result = temp[:,-1]\n",
    "        y_result = np.reshape(y_result, (1, y_result.shape[0]))\n",
    "        return X_result, y_result\n",
    "    \n",
    "    def get_epoch(self):\n",
    "        return self.epoch\n",
    "\n",
    "    ### Not required by sk-learn but required by us for grading. Returns the weights.\n",
    "    def get_weights(self):\n",
    "        return self.weights"
   ]
  },
  {
   "cell_type": "markdown",
   "metadata": {
    "id": "KibCIXIThpbE"
   },
   "source": [
    "## 1.1 Debug \n",
    "\n",
    "Debug your model by running it on the [debug dataset](https://raw.githubusercontent.com/cs472ta/CS472/master/datasets/linsep2nonorigin.arff)\n",
    "\n",
    "Parameters:\n",
    "\n",
    "Learning Rate = 0.1\\\n",
    "Deterministic = 10 [This means run it 10 epochs and should be the same everytime you run it]\\\n",
    "Shuffle = False\\\n",
    "Initial Weights = All zeros\n",
    "\n",
    "---\n",
    "\n",
    "Expected Results\n",
    "\n",
    "Accuray = [0.88]\\\n",
    "Final Weights = [-0.23  0.18 -0.1 ]"
   ]
  },
  {
   "cell_type": "code",
   "execution_count": 3,
   "metadata": {
    "id": "KgAyy82gixIF"
   },
   "outputs": [
    {
     "name": "stdout",
     "output_type": "stream",
     "text": [
      "0.875\n",
      "[-0.23  0.18 -0.1 ]\n"
     ]
    }
   ],
   "source": [
    "from scipy.io import arff\n",
    "import pandas as pd\n",
    "\n",
    "# Load debug data\n",
    "data = arff.loadarff(\"debug_dataset.arff\")\n",
    "df = pd.DataFrame(data[0])\n",
    "df['class'] = df['class'].str.decode('utf-8')\n",
    "df['class'] = df['class'].apply(pd.to_numeric)\n",
    "np_data = np.array(df)\n",
    "\n",
    "X = np_data[:,:2]\n",
    "y = np.reshape(np_data[:,2], (1,df.shape[0]))\n",
    "\n",
    "# Train on debug data\n",
    "pc = PerceptronClassifier(0.1, False, False, True)\n",
    "pc.fit(X,y).predict(X)\n",
    "print(pc.score(X,y))\n",
    "\n",
    "# Check weights\n",
    "print(pc.weights)"
   ]
  },
  {
   "cell_type": "markdown",
   "metadata": {
    "id": "kY3VNB1ui03N"
   },
   "source": [
    "## 1.2 Evaluation\n",
    "\n",
    "We will evaluate your model based on it's performance on the [evaluation dataset](https://raw.githubusercontent.com/cs472ta/CS472/master/datasets/data_banknote_authentication.arff)"
   ]
  },
  {
   "cell_type": "code",
   "execution_count": 9,
   "metadata": {
    "id": "2yAxA78QjDh2"
   },
   "outputs": [
    {
     "name": "stdout",
     "output_type": "stream",
     "text": [
      "0.9876093294460642\n",
      "[-3.80657242 -2.840821   -3.0719334  -1.4003906   4.9       ]\n"
     ]
    }
   ],
   "source": [
    "# Load evaluation data\n",
    "data_eval = arff.loadarff(\"eval.arff\")\n",
    "df_eval = pd.DataFrame(data_eval[0])\n",
    "df_eval['class'] = df_eval['class'].str.decode('utf-8').apply(pd.to_numeric)\n",
    "np_eval = np.array(df_eval)\n",
    "X = np_eval[:,:4]\n",
    "y = np.reshape(np_eval[:,4], (1, df_eval.shape[0]))\n",
    "\n",
    "# Train on evaluation data\n",
    "# Using the same parameters as 1.1\n",
    "pc_eval = PerceptronClassifier(0.1, False, False, True)\n",
    "pc_eval.fit(X,y).predict(X)\n",
    "print(pc_eval.score(X,y))\n",
    "\n",
    "# Print weights\n",
    "print(pc_eval.weights)"
   ]
  },
  {
   "cell_type": "markdown",
   "metadata": {
    "id": "9vWiTdlbR2Xh"
   },
   "source": [
    "## 2. (10%) Create 2 datasets\n",
    "\n",
    "- Both with 8 instances using 2 real valued inputs (ranging between -1 and 1) with 4 instances from each class. \n",
    "- One data set should be linearly separable and the other not.\n",
    "- Graph each dataset\n",
    "\n",
    "![Linearly Separable Data](https://raw.githubusercontent.com/rmorain/CS472-1/master/images/perceptron/linearly_separable.png)\n",
    "\n",
    "![Not Linearly Separable](https://raw.githubusercontent.com/rmorain/CS472-1/master/images/perceptron/not_linearly_separable.png)"
   ]
  },
  {
   "cell_type": "code",
   "execution_count": 10,
   "metadata": {
    "id": "4SSoasDQSKXb"
   },
   "outputs": [],
   "source": [
    "# Create 2 datasets\n",
    "X_temp1 = np.array([[0.8,0.9], [0.5,1], [-0.5,0.3],[-1,0.15],[-0.87,0.42],[0.2,0.8],[1,0.5],[-0.1,0.3]])\n",
    "y_temp1 = np.array([[1,1,0,0,0,1,1,0]])\n",
    "\n",
    "X_temp2 = np.array([[0.2,0.9], [0.45,0.5], [0.6,0.47],[0.69,0.35],[0.85,0.12],[-0.1,0.23],[-0.6,0.3],[-0.8,0.5]])\n",
    "y_temp2 = np.array([[1,1,1,0,0,1,0,0]])"
   ]
  },
  {
   "cell_type": "markdown",
   "metadata": {
    "id": "SIRG42TgSR4x"
   },
   "source": [
    "## 3. (10%) Train on both sets with your perceptron code.\n",
    "\n",
    "- Use a couple different learning rates.\n"
   ]
  },
  {
   "cell_type": "code",
   "execution_count": 11,
   "metadata": {
    "id": "KBGUn43ASiXW"
   },
   "outputs": [
    {
     "name": "stdout",
     "output_type": "stream",
     "text": [
      "lr:  0.1 , score:  1.0 , epochs:  4\n",
      "lr:  1.2 , score:  1.0 , epochs:  4\n",
      "lr:  2.3 , score:  1.0 , epochs:  4\n",
      "lr:  3.4 , score:  1.0 , epochs:  4\n",
      "lr:  4.5 , score:  1.0 , epochs:  4\n"
     ]
    }
   ],
   "source": [
    "# Train on each dataset\n",
    "def train_temp_dataset(learning_rate, pc, X, y):\n",
    "    scores = []\n",
    "    w = None\n",
    "    while True:\n",
    "        pc.fit(X, y, w).predict(X)\n",
    "        w = pc.weights\n",
    "        score = pc.score(X, y)\n",
    "        scores.append(score)\n",
    "        if len(scores) <= 3:\n",
    "            continue\n",
    "        if abs(scores[len(scores)-1] - scores[len(scores)-2]) < 0.2 and abs(scores[len(scores)-2] - scores[len(scores)-3]) < 0.2 and abs(scores[len(scores)-3] - scores[len(scores)-4]) < 0.2:\n",
    "            break\n",
    "        else:\n",
    "            continue\n",
    "    return scores[-1], len(scores) \n",
    "    \n",
    "    \n",
    "# Linearly Separable Data\n",
    "lr = 0.1\n",
    "for _ in range(5):\n",
    "    temp1_pc = PerceptronClassifier(lr, True, True, False)\n",
    "    #X_temp = X\n",
    "    y = y_temp1.flatten()\n",
    "    temp = np.column_stack((X_temp1, y))\n",
    "    np.random.shuffle(temp)\n",
    "    X_result = temp[:,:-1]\n",
    "    y_result = temp[:,-1]\n",
    "    y_result = np.reshape(y_result, (1, y_result.shape[0]))\n",
    "    r = train_temp_dataset(lr, temp1_pc, X_result, y_result)\n",
    "    print(\"lr: \", round(lr,2), \", score: \", r[0], \", epochs: \", r[1])\n",
    "    lr += 1.1"
   ]
  },
  {
   "cell_type": "code",
   "execution_count": 13,
   "metadata": {},
   "outputs": [
    {
     "name": "stdout",
     "output_type": "stream",
     "text": [
      "lr:  0.1 , score:  0.75 , epochs:  6\n",
      "lr:  1.2 , score:  0.625 , epochs:  4\n",
      "lr:  2.3 , score:  0.625 , epochs:  4\n",
      "lr:  3.4 , score:  0.5 , epochs:  4\n",
      "lr:  4.5 , score:  0.375 , epochs:  4\n"
     ]
    }
   ],
   "source": [
    "# Not Linearly Separable Data\n",
    "lr = 0.1\n",
    "for _ in range(5):\n",
    "    temp2_pc = PerceptronClassifier(lr, True, True, False)\n",
    "    r = train_temp_dataset(lr, temp2_pc, X_temp2, y_temp2)\n",
    "    print(\"lr: \", round(lr,2), \", score: \", r[0], \", epochs: \", r[1])\n",
    "    lr += 1.1"
   ]
  },
  {
   "cell_type": "markdown",
   "metadata": {
    "id": "mOteTlV6S0bq"
   },
   "source": [
    "Discuss the effect of learning rate, including how many epochs are completed before stopping. (For these cases, learning rate should have minimal effect, unlike with the Backpropagation lab.)\n"
   ]
  },
  {
   "cell_type": "markdown",
   "metadata": {
    "id": "qmq9GSbJS8k2"
   },
   "source": [
    "After trying different learning rates for the perceptron, it seems that it doesn't really have effects on our results. Also, the number of epochs were not really affected by the change of learning rate. However, the scores were different between the two models. The perceptron with the linearly separable data had much better scores than that with the non-linearly separable data.\n",
    "\n"
   ]
  },
  {
   "cell_type": "markdown",
   "metadata": {
    "id": "v19fpixqTe-7"
   },
   "source": [
    "## 4. (10%) Graph the instances and decision line for the two cases above (with LR=.1)\n",
    " \n",
    " - For all graphs always label the axes!"
   ]
  },
  {
   "cell_type": "code",
   "execution_count": 16,
   "metadata": {
    "id": "ZCPFUAGTS2sX"
   },
   "outputs": [
    {
     "data": {
      "image/png": "[encoded data removed]",
      "text/plain": [
       "<Figure size 432x288 with 1 Axes>"
      ]
     },
     "metadata": {
      "needs_background": "light"
     },
     "output_type": "display_data"
    }
   ],
   "source": [
    "# Graph decision line\n",
    "\n",
    "p1 = PerceptronClassifier(0.1, True, False, False)\n",
    "scores = []\n",
    "w = None\n",
    "while True:\n",
    "    \n",
    "    x = p1.fit(X_temp1, y_temp1, w).predict(X_temp1)\n",
    "    w = p1.weights\n",
    "    score = pc.score(X_temp1, y_temp1)\n",
    "    scores.append(score)\n",
    "    if len(scores) <= 10:\n",
    "        continue  \n",
    "    if abs(scores[len(scores)-1] - scores[len(scores)-2]) < 0.01 and abs(scores[len(scores)-2] - scores[len(scores)-3]) < 0.01 and abs(scores[len(scores)-3] - scores[len(scores)-4]) < 0.01 and abs(scores[len(scores)-4] - scores[len(scores)-5]) < 0.01 and abs(scores[len(scores)-5] - scores[len(scores)-6]) < 0.01:\n",
    "        break\n",
    "    else:\n",
    "        continue\n",
    "        \n",
    "w1, w2, b = p1.weights\n",
    "temp_x1 =[]\n",
    "temp_y1 = []\n",
    "temp_x2 =[]\n",
    "temp_y2 = []\n",
    "for i,x in enumerate(X_temp1):\n",
    "    if y_temp1[0][i] == 1:\n",
    "        temp_x1.append(x[0])\n",
    "        temp_y1.append(x[1])\n",
    "    else:\n",
    "        temp_x2.append(x[0])\n",
    "        temp_y2.append(x[1])\n",
    "\n",
    "x = -b / w1\n",
    "y = -b / w2\n",
    "d = y\n",
    "c = -y /x\n",
    "x_cor = np.array([-1,1])\n",
    "y_cor = c* x_cor + d\n",
    "\n",
    "plt.title(\"Linearly Separable Data\", fontsize=20)\n",
    "plt.xlabel(\"X\")\n",
    "plt.ylabel(\"Y\")\n",
    "plt.scatter(temp_x1, temp_y1, label=\"Class1\")\n",
    "plt.scatter(temp_x2, temp_y2, label=\"Class2\")\n",
    "plt.plot(x_cor, y_cor, label=\"Learned Separator\", color=\"black\")\n",
    "plt.legend()\n",
    "plt.show()"
   ]
  },
  {
   "cell_type": "code",
   "execution_count": 15,
   "metadata": {},
   "outputs": [
    {
     "data": {
      "image/png": "[encoded data removed]",
      "text/plain": [
       "<Figure size 432x288 with 1 Axes>"
      ]
     },
     "metadata": {
      "needs_background": "light"
     },
     "output_type": "display_data"
    }
   ],
   "source": [
    "p2 = PerceptronClassifier(0.1, True, False, False)\n",
    "scores = []\n",
    "w = None\n",
    "while True:\n",
    "    \n",
    "    x = p2.fit(X_temp2, y_temp2, w).predict(X_temp2)\n",
    "    w = p2.weights\n",
    "    score = pc.score(X_temp2, y_temp2)\n",
    "    scores.append(score)\n",
    "    if len(scores) <= 10:\n",
    "        continue  \n",
    "    if abs(scores[len(scores)-1] - scores[len(scores)-2]) < 0.01 and abs(scores[len(scores)-2] - scores[len(scores)-3]) < 0.01 and abs(scores[len(scores)-3] - scores[len(scores)-4]) < 0.01 and abs(scores[len(scores)-4] - scores[len(scores)-5]) < 0.01 and abs(scores[len(scores)-5] - scores[len(scores)-6]) < 0.01:\n",
    "        break\n",
    "    else:\n",
    "        continue\n",
    "        \n",
    "w1, w2, b = p2.weights\n",
    "temp_x1 =[]\n",
    "temp_y1 = []\n",
    "temp_x2 =[]\n",
    "temp_y2 = []\n",
    "for i,x in enumerate(X_temp2):\n",
    "    if y_temp2[0][i] == 1:\n",
    "        temp_x1.append(x[0])\n",
    "        temp_y1.append(x[1])\n",
    "    else:\n",
    "        temp_x2.append(x[0])\n",
    "        temp_y2.append(x[1])\n",
    "\n",
    "x = -b / w1\n",
    "y = -b / w2\n",
    "d = y\n",
    "c = -y /x\n",
    "x_cor = np.array([-1,1])\n",
    "y_cor = c* x_cor + d\n",
    "\n",
    "plt.title(\"Not Linearly Separable Data\", fontsize=20)\n",
    "plt.xlabel(\"X\")\n",
    "plt.ylabel(\"Y\")\n",
    "plt.scatter(temp_x1, temp_y1, label=\"Class1\")\n",
    "plt.scatter(temp_x2, temp_y2, label=\"Class2\")\n",
    "plt.plot(x_cor, y_cor, label=\"Learned Separator\", color='black')\n",
    "plt.legend(loc=\"center left\")\n",
    "plt.show()\n",
    "\n",
    "\n"
   ]
  },
  {
   "cell_type": "markdown",
   "metadata": {
    "id": "0ySvhd1lUGSe"
   },
   "source": [
    "## 5. (20%) Use your perceptron code to learn this version of the [voting data set](https://raw.githubusercontent.com/rmorain/CS472-1/master/datasets/perceptron/voting-dataset.arff).\n",
    "\n",
    "This particular task is an edited version of the standard voting set, where we have replaced all the “don’t know” values with the most common value for the particular attribute.  \n",
    "\n",
    "### 5.1 Create a table that reports the final training and test set accuracy and the number of epochs for each trial.\n",
    "\n",
    "- Try it five times with different random 70/30 splits. \n",
    "- Use your own code to randomize and make splits. \n",
    "- Report the average of these values for the 5 trials in the table.  \n",
    "\n",
    "| Trial | Training Accuracy | Test accuracy | Number of epochs |\n",
    "| --- | --- | --- | --- |\n",
    "| 1 | .95 | .55 | 4 |\n",
    "| Average each value by trial| | | \n",
    "\n",
    "*- As a rough sanity check, typical Perceptron test accuracies for the voting data set are 90%-98%.*\n"
   ]
  },
  {
   "cell_type": "code",
   "execution_count": 17,
   "metadata": {
    "id": "Romyl4G8Trki"
   },
   "outputs": [],
   "source": [
    "d = arff.loadarff('voting-dataset.arff')\n",
    "df_vote = pd.DataFrame(d[0])\n",
    "str_df = df_vote.select_dtypes([object])\n",
    "str_df = str_df.stack().str.decode('utf-8').unstack()\n",
    "df_vote = str_df\n",
    "np_vote = np.array(df_vote)\n",
    "\n",
    "np_vote[np_vote == 'n'] = 0\n",
    "np_vote[np_vote == 'y'] = 1\n",
    "np_vote[np_vote == 'republican'] = 1\n",
    "np_vote[np_vote == 'democrat'] = 0\n",
    "pc_vote = PerceptronClassifier(.1, True, True, False)\n",
    "\n",
    "# 70 / 30\n",
    "def trial():\n",
    "    np.random.shuffle(np_vote)\n",
    "    train_index = len(np_vote) * 7 // 10\n",
    "    train_data = np_vote[:train_index,:]\n",
    "    test_data = np_vote[train_index:,:]\n",
    "\n",
    "    X_train = train_data[:,:-1]\n",
    "    y_train = train_data[:,-1]\n",
    "    y_train = np.reshape(y_train, (1, y_train.shape[0]))\n",
    "\n",
    "    X_test = test_data[:,:-1]\n",
    "    y_test = test_data[:,-1]\n",
    "    y_test = np.reshape(y_test, (1, y_test.shape[0]))\n",
    "\n",
    "    #pc_vote = PerceptronClassifier(.1, True, True, False)\n",
    "\n",
    "    w = None\n",
    "    scores = []\n",
    "    miss_rate = []\n",
    "    while True:\n",
    "        pc_vote.fit(X_train, y_train, w).predict(X_test)\n",
    "        w = pc_vote.weights\n",
    "        score = pc_vote.score(X_test, y_test)\n",
    "        scores.append(score)\n",
    "        miss_rate.append(1-score)\n",
    "        if len(scores) <= 5:\n",
    "            continue\n",
    "        if abs(scores[len(scores)-1] - scores[len(scores)-2]) < 0.03 and abs(scores[len(scores)-2] - scores[len(scores)-3]) < 0.03 and abs(scores[len(scores)-3] - scores[len(scores)-4]) < 0.03 and abs(scores[len(scores)-4] - scores[len(scores)-5]) < 0.03 and abs(scores[len(scores)-5] - scores[len(scores)-6]) < 0.03:\n",
    "            break\n",
    "    return pc_vote.score(X_train,y_train), scores[-1], len(scores), miss_rate\n",
    "\n",
    "t1 = trial()\n",
    "t2 = trial()\n",
    "t3 = trial()\n",
    "t4 = trial()\n",
    "t5 = trial()"
   ]
  },
  {
   "cell_type": "code",
   "execution_count": 18,
   "metadata": {},
   "outputs": [
    {
     "name": "stdout",
     "output_type": "stream",
     "text": [
      "-------  -----------------  -------------  ----------------\n",
      "Trial    Training Accuracy  Test Accuracy  Number of Epochs\n",
      "trial 1  0.94               0.93           13\n",
      "trial 2  0.94               0.91           33\n",
      "trial 3  0.94               0.95           6\n",
      "trial 4  0.95               0.95           17\n",
      "trial 5  0.97               0.94           6\n",
      "Average  0.95               0.94           15\n",
      "-------  -----------------  -------------  ----------------\n"
     ]
    }
   ],
   "source": [
    "from tabulate import tabulate\n",
    "\n",
    "table = [[\"Trial\", \"Training Accuracy\", \"Test Accuracy\", \"Number of Epochs\"], \n",
    "         [\"trial 1\", round(t1[0],2),round(t1[1],2),t1[2]],\n",
    "         [\"trial 2\", round(t2[0],2),round(t2[1],2),t2[2]],\n",
    "         [\"trial 3\", round(t3[0],2),round(t3[1],2),t3[2]],\n",
    "         [\"trial 4\", round(t4[0],2),round(t4[1],2),t4[2]],\n",
    "         [\"trial 5\", round(t5[0],2),round(t5[1],2),t5[2]],\n",
    "         [\"Average\", round((t1[0]+t2[0]+t3[0]+t4[0]+t5[0])/5,2), round((t1[1]+t2[1]+t3[1]+t4[1]+t5[1])/5,2), (t1[2]+t2[2]+t3[2]+t4[2]+t5[2])//5]]\n",
    "print(tabulate(table))"
   ]
  },
  {
   "cell_type": "markdown",
   "metadata": {
    "id": "cm4rbWkzVeoR"
   },
   "source": [
    "### 5.2 By looking at the weights, explain what the model has learned and how the individual input features affect the result. Which specific features are most critical for the voting task, and which are least critical? \n"
   ]
  },
  {
   "cell_type": "code",
   "execution_count": 19,
   "metadata": {},
   "outputs": [
    {
     "data": {
      "text/plain": [
       "array([0.039035888481228825, -0.29012512083501074, -0.8262953220319986,\n",
       "       1.6102292338176376, 0.22165732651380773, -0.10181008265916064,\n",
       "       -0.10517090130072976, 0.6415679628869919, -0.3461913290798886,\n",
       "       0.04770569896370183, -0.7418330617907759, 0.16248437678293357,\n",
       "       0.08026910468487292, -0.18402775122561585, -0.5775000506958374,\n",
       "       0.07172149133324685, -0.14153642173007708], dtype=object)"
      ]
     },
     "execution_count": 19,
     "metadata": {},
     "output_type": "execute_result"
    }
   ],
   "source": [
    "pc_vote.weights"
   ]
  },
  {
   "cell_type": "code",
   "execution_count": 20,
   "metadata": {},
   "outputs": [
    {
     "name": "stdout",
     "output_type": "stream",
     "text": [
      "(array([3], dtype=int64),) 0.039035888481228825\n"
     ]
    }
   ],
   "source": [
    "print(np.where(pc_vote.weights == max(abs(pc_vote.weights))),min(abs(pc_vote.weights)))"
   ]
  },
  {
   "cell_type": "code",
   "execution_count": 21,
   "metadata": {},
   "outputs": [
    {
     "data": {
      "text/plain": [
       "Index(['handicapped-infants', 'water-project-cost-sharing',\n",
       "       'adoption-of-the-budget-resolution', 'physician-fee-freeze',\n",
       "       'el-salvador-aid', 'religious-groups-in-schools',\n",
       "       'anti-satellite-test-ban', 'aid-to-nicaraguan-contras', 'mx-missile',\n",
       "       'immigration', 'synfuels-corporation-cutback', 'education-spending',\n",
       "       'superfund-right-to-sue', 'crime', 'duty-free-exports',\n",
       "       'export-administration-act-south-africa', 'Class'],\n",
       "      dtype='object')"
      ]
     },
     "execution_count": 21,
     "metadata": {},
     "output_type": "execute_result"
    }
   ],
   "source": [
    "df_vote.columns"
   ]
  },
  {
   "cell_type": "markdown",
   "metadata": {
    "id": "g3F0Qp-BVi1R"
   },
   "source": [
    "Our model has learned to predict if someone will vote for democrat or republican, by being trained and adjusting the weights that correspond to each column features in the dataset.\n",
    "By looking at the magnitude of the weights, we can see how individual features affected the result. \n",
    "We can see that the fourth weight has the largest magnitude of weight. So, 'physician-fee-freeze' feature was the most critical for the voting task.\n",
    "Otherwise, there were several features of weights that are closest to zero depending on each trials. 'crime', 'superfund-right-to-sue', and 'education-spending' were some of the least critical features for the voting task.\n",
    "\n"
   ]
  },
  {
   "cell_type": "markdown",
   "metadata": {
    "id": "NyUmJ4yWVsQ7"
   },
   "source": [
    "### 5.3 Make a graph of the average misclassification rate vs epochs (0th – final epoch).\n",
    "\n",
    "- Average the misclassification rate for the training set across your 5 trials (not across 5 epochs).\n",
    "\n",
    "\n",
    "![Average Misclassification Rate](https://raw.githubusercontent.com/rmorain/CS472-1/master/images/perceptron/avg_misclassification_rate_vs_epochs.png)"
   ]
  },
  {
   "cell_type": "code",
   "execution_count": 22,
   "metadata": {},
   "outputs": [],
   "source": [
    "temp = [len(t1[3]),len(t2[3]),len(t3[3]),len(t4[3]),len(t5[3])]\n",
    "\n",
    "m = max(temp)\n",
    "miss_t1 = np.array(t1[3])\n",
    "miss_t2 = np.array(t2[3])\n",
    "miss_t3 = np.array(t3[3])\n",
    "miss_t4 = np.array(t4[3])\n",
    "miss_t5 = np.array(t5[3])\n",
    "miss_t1 = np.insert(miss_t1, len(miss_t1), np.zeros(m - len(miss_t1)))\n",
    "miss_t2 = np.insert(miss_t2, len(miss_t2), np.zeros(m - len(miss_t2)))\n",
    "miss_t3 = np.insert(miss_t3, len(miss_t3), np.zeros(m - len(miss_t3)))\n",
    "miss_t4 = np.insert(miss_t4, len(miss_t4), np.zeros(m - len(miss_t4)))\n",
    "miss_t5 = np.insert(miss_t5, len(miss_t5), np.zeros(m - len(miss_t5)))\n",
    "\n",
    "miss_avg = (miss_t1+miss_t2+miss_t3+miss_t4+miss_t5)/5"
   ]
  },
  {
   "cell_type": "code",
   "execution_count": 23,
   "metadata": {
    "id": "2_ZRPWWVVeFM"
   },
   "outputs": [
    {
     "data": {
      "image/png": "[encoded data removed]",
      "text/plain": [
       "<Figure size 432x288 with 1 Axes>"
      ]
     },
     "metadata": {
      "needs_background": "light"
     },
     "output_type": "display_data"
    }
   ],
   "source": [
    "# Graph here\n",
    "    \n",
    "def plot_misclassification(avg_misclassification_rate):\n",
    "    \"\"\"\n",
    "        Plots the average misclassification rate\n",
    "    Args:\n",
    "        avg_misclassification_rate (array-like): A 1D array or list\n",
    "    \"\"\"\n",
    "    plt.plot(np.arange(len(avg_misclassification_rate)), avg_misclassification_rate)\n",
    "    plt.title(\"Average Misclassification Rate vs. Epoch\")\n",
    "    plt.xlabel(\"Epoch\")\n",
    "    plt.ylabel(\"Misclassification Rate\")\n",
    "    plt.show()\n",
    "    \n",
    "plot_misclassification(miss_avg)"
   ]
  },
  {
   "cell_type": "markdown",
   "metadata": {},
   "source": [
    "## 6. (10%) Use the perceptron algorithm from the [scikit-learn toolkit](https://scikit-learn.org/stable/modules/generated/sklearn.linear_model.Perceptron.html) to learn the voting task above and also one other data set of your choice.\n",
    "\n",
    "- Report and compare your results.\n",
    "- Try out some of the hyper-parameters that scikit-learn makes available on your own perceptron."
   ]
  },
  {
   "cell_type": "code",
   "execution_count": 25,
   "metadata": {
    "id": "OFQv70W2VyqJ"
   },
   "outputs": [
    {
     "name": "stdout",
     "output_type": "stream",
     "text": [
      "<Sklearn Perceptron score for the voting task>\n",
      " [0.98, 0.93, 0.97, 0.94, 0.95]\n"
     ]
    }
   ],
   "source": [
    "# Load sklearn perceptron\n",
    "from sklearn.model_selection import train_test_split\n",
    "from sklearn.linear_model import perceptron\n",
    "from sklearn.metrics import accuracy_score\n",
    "\n",
    "# Train on voting dataset\n",
    "np_vote = np_vote.astype('int')\n",
    "sklearn_result = []\n",
    "for _ in range(5):\n",
    "    X_train, X_test, y_train, y_test = train_test_split(np_vote[:,:-1], np_vote[:,-1], test_size=0.3)\n",
    "    model = Perceptron(eta0=0.1, random_state=0)\n",
    "    model.fit(X_train, y_train)\n",
    "    pred = model.predict(X_test)\n",
    "    sklearn_result.append(round(accuracy_score(y_test, pred),2))\n",
    "print(\"<Sklearn Perceptron score for the voting task>\\n\", sklearn_result)\n"
   ]
  },
  {
   "cell_type": "code",
   "execution_count": 27,
   "metadata": {},
   "outputs": [
    {
     "name": "stdout",
     "output_type": "stream",
     "text": [
      "<Sklearn Perceptron score for the cancer>\n",
      " [0.49, 0.91, 0.72, 0.69, 0.87]\n"
     ]
    }
   ],
   "source": [
    "# One other dataset\n",
    "from sklearn import datasets\n",
    "\n",
    "cancer_result = []\n",
    "cancer_data = datasets.load_breast_cancer()\n",
    "cancer_df = pd.DataFrame(cancer_data.data, columns=cancer_data.feature_names)\n",
    "cancer_df['class'] = cancer_data.target\n",
    "X = cancer_data.data\n",
    "y = cancer_data.target\n",
    "for _ in range(5):\n",
    "    X_train, X_test, y_train, y_test = train_test_split(X, y, test_size = 0.3)\n",
    "    model = Perceptron(eta0=0.2, random_state=1, max_iter=500, early_stopping=True)\n",
    "    model.fit(X_train, y_train)\n",
    "    pred = model.predict(X_test)\n",
    "    cancer_result.append(round(accuracy_score(y_test, pred),2))\n",
    "print(\"<Sklearn Perceptron score for the cancer>\\n\", cancer_result)"
   ]
  },
  {
   "cell_type": "markdown",
   "metadata": {
    "id": "BqSFAXwlk3Ms"
   },
   "source": [
    "   For my perceptron, the accuracy score was from 92-97% mostly, but the score from sklearn.perceptron was in range of 93-97% typically. However, there are some times that the score from the skearn perceptron was about 88% or 89%, but it happened very rarely. I think both models predicted pretty similarly for the voting task.\n",
    "   For another dataset, I used the breast cancer data from one of the sklearn's datasets. I tried some of parameters like max_iter and early_stopping. The results were not really good for certain trials. I think this is because there are so many features in this dataset and actually need another way to predict."
   ]
  },
  {
   "cell_type": "markdown",
   "metadata": {
    "id": "cTlK-kijk8Mg"
   },
   "source": [
    "## 7. (Optional 5% extra credit) Use the perceptron rule to learn the [iris task](https://raw.githubusercontent.com/cs472ta/CS472/master/datasets/iris.arff) or some other task with more than two possible output values. \n",
    "\n",
    "Note that the [iris data](https://raw.githubusercontent.com/cs472ta/CS472/master/datasets/iris.arff) set has 3 output classes, and a perceptron node only has two possible outputs.  You could implement either of the two most common ways to deal with this. For testing you just execute the novel instance on each model and combine the overall results to see which output class wins."
   ]
  },
  {
   "cell_type": "code",
   "execution_count": 28,
   "metadata": {
    "id": "5iY77P7gk1Nh"
   },
   "outputs": [],
   "source": [
    "# one vs one method\n",
    "\n",
    "import urllib.request\n",
    "URL = 'http://archive.ics.uci.edu/ml/machine-learning-databases/iris/iris.data'\n",
    "urllib.request.urlretrieve(URL, 'iris.data')\n",
    "iris_data = pd.read_csv('iris.data', header=None)"
   ]
  },
  {
   "cell_type": "code",
   "execution_count": 29,
   "metadata": {},
   "outputs": [],
   "source": [
    "# Split the df by class\n",
    "setosa_df = iris_data.iloc[:50,:]\n",
    "versicolor_df = iris_data.iloc[50:100,:]\n",
    "virginica_df = iris_data.iloc[100:,:]\n",
    "\n",
    "# train/test -> 70% / 30%\n",
    "setosa_np = np.array(setosa_df)\n",
    "versicolor_np = np.array(versicolor_df)\n",
    "virginica_np = np.array(virginica_df)\n",
    "\n",
    "setosa_train = setosa_np[:35,:]\n",
    "setosa_test = setosa_np[35:,:]\n",
    "versicolor_train = versicolor_np[:35,:]\n",
    "versicolor_test = versicolor_np[35:,:]\n",
    "virginica_train = virginica_np[:35,:]\n",
    "virginica_test = virginica_np[35:,:]\n",
    "\n",
    "test = np.concatenate((setosa_test, versicolor_test))\n",
    "test = np.concatenate((test, virginica_test))\n",
    "np.random.shuffle(test)\n",
    "X_test = test[:,:-1]\n",
    "y_test = test[:,-1]\n",
    "y_test[y_test == 'Iris-setosa'] = 0\n",
    "y_test[y_test == 'Iris-versicolor'] = 1\n",
    "y_test[y_test == 'Iris-virginica'] = 2\n",
    "y_test = np.reshape(y_test, (1, y_test.shape[0]))\n",
    "\n",
    "# 1. setosa - versicolor\n",
    "# setosa:0  versicolor:1\n",
    "setosa_versicolor_data = np.concatenate((setosa_train, versicolor_train))\n",
    "np.random.shuffle(setosa_versicolor_data)\n",
    "\n",
    "# 2. setosa - virginica\n",
    "# setosa:0  virginica:1\n",
    "setosa_virginica_data = np.concatenate((setosa_train, virginica_train))\n",
    "np.random.shuffle(setosa_virginica_data)\n",
    "\n",
    "# 3. versicolor - virginica\n",
    "# versicolor:0  virginica:1\n",
    "versi_virginica_data = np.concatenate((versicolor_train, virginica_train))\n",
    "np.random.shuffle(versi_virginica_data)"
   ]
  },
  {
   "cell_type": "code",
   "execution_count": 30,
   "metadata": {},
   "outputs": [],
   "source": [
    "def trial2(pc, x, y, x_test, y_test):\n",
    "    w = None\n",
    "    scores = []\n",
    "    \n",
    "    while True:\n",
    "        pred = pc.fit(x, y, w).predict(x_test)\n",
    "        w = pc.weights\n",
    "        score = pc.score(x_test, y_test)\n",
    "        scores.append(score)\n",
    "        if len(scores) <= 15:\n",
    "            continue\n",
    "        if abs(scores[len(scores)-1] - scores[len(scores)-2]) < 0.05 and abs(scores[len(scores)-2] - scores[len(scores)-3]) < 0.05 and abs(scores[len(scores)-3] - scores[len(scores)-4]) < 0.05 and abs(scores[len(scores)-4] - scores[len(scores)-5]) < 0.05 and abs(scores[len(scores)-5] - scores[len(scores)-6]) < 0.05:\n",
    "            break\n",
    "    return pred"
   ]
  },
  {
   "cell_type": "code",
   "execution_count": 31,
   "metadata": {},
   "outputs": [
    {
     "data": {
      "text/plain": [
       "array([1., 1., 1., 1., 1., 0., 1., 1., 0., 0., 1., 1., 0., 1., 1., 0., 1.,\n",
       "       0., 1., 1., 0., 1., 0., 1., 1., 1., 1., 1., 1., 1., 0., 0., 1., 1.,\n",
       "       0., 1., 0., 0., 1., 1., 1., 0., 1., 0., 1.])"
      ]
     },
     "execution_count": 31,
     "metadata": {},
     "output_type": "execute_result"
    }
   ],
   "source": [
    "## setosa:0  versicolor:1  virginica:2\n",
    "\n",
    "# 1.\n",
    "setosa_versicolor_data[setosa_versicolor_data == 'Iris-versicolor'] = 1\n",
    "setosa_versicolor_data[setosa_versicolor_data == 'Iris-setosa'] = 0\n",
    "\n",
    "setosa_versicolor_X_train = setosa_versicolor_data[:,:-1]\n",
    "setosa_versicolor_y_train = setosa_versicolor_data[:,-1]\n",
    "setosa_versicolor_y_train = np.reshape(setosa_versicolor_y_train, (1, setosa_versicolor_y_train.shape[0]))\n",
    "\n",
    "pc_setosa_versicolor = PerceptronClassifier(0.1, True, True, False)\n",
    "#pc_setosa_versicolor_prediction = pc_setosa_versicolor.fit(setosa_versicolor_X_train, setosa_versicolor_y_train).predict(X_test)\n",
    "\n",
    "#pc_setosa_versicolor_prediction[pc_setosa_versicolor_prediction == 1] = 'Iris-versicolor'\n",
    "#pc_setosa_versicolor_prediction[pc_setosa_versicolor_prediction == 0] = 'Iris-setosa'\n",
    "pc_setosa_versicolor_prediction = trial2(pc_setosa_versicolor, setosa_versicolor_X_train, setosa_versicolor_y_train, X_test, y_test)\n",
    "pc_setosa_versicolor_prediction"
   ]
  },
  {
   "cell_type": "code",
   "execution_count": 32,
   "metadata": {},
   "outputs": [
    {
     "data": {
      "text/plain": [
       "array([2., 2., 2., 2., 2., 0., 2., 2., 0., 0., 2., 2., 0., 2., 2., 0., 2.,\n",
       "       0., 2., 2., 0., 2., 0., 2., 2., 2., 2., 2., 2., 2., 0., 0., 2., 2.,\n",
       "       0., 2., 0., 0., 2., 2., 2., 0., 2., 0., 2.])"
      ]
     },
     "execution_count": 32,
     "metadata": {},
     "output_type": "execute_result"
    }
   ],
   "source": [
    "# 2.\n",
    "setosa_virginica_data[setosa_virginica_data == 'Iris-setosa'] = 0\n",
    "setosa_virginica_data[setosa_virginica_data == 'Iris-virginica'] = 1\n",
    "\n",
    "setosa_virginica_X_train = setosa_virginica_data[:,:-1]\n",
    "setosa_virginica_y_train = setosa_virginica_data[:,-1]\n",
    "setosa_virginica_y_train = np.reshape(setosa_virginica_y_train, (1, setosa_virginica_y_train.shape[0]))\n",
    "\n",
    "pc_setosa_virginica = PerceptronClassifier(0.1, True, True, False)\n",
    "pc_setosa_virginica_prediction = trial2(pc_setosa_virginica, setosa_virginica_X_train, setosa_virginica_y_train, X_test, y_test)\n",
    "pc_setosa_virginica_prediction[pc_setosa_virginica_prediction == 1] = 2\n",
    "pc_setosa_virginica_prediction"
   ]
  },
  {
   "cell_type": "code",
   "execution_count": 33,
   "metadata": {},
   "outputs": [
    {
     "data": {
      "text/plain": [
       "array([1., 2., 1., 1., 1., 1., 1., 1., 1., 1., 1., 1., 1., 2., 1., 1., 1.,\n",
       "       1., 2., 2., 1., 2., 1., 2., 1., 2., 2., 1., 2., 1., 1., 1., 1., 2.,\n",
       "       1., 2., 1., 1., 1., 2., 2., 1., 2., 1., 1.])"
      ]
     },
     "execution_count": 33,
     "metadata": {},
     "output_type": "execute_result"
    }
   ],
   "source": [
    "# 3.\n",
    "versi_virginica_data[versi_virginica_data == 'Iris-versicolor'] = 0\n",
    "versi_virginica_data[versi_virginica_data == 'Iris-virginica'] = 1\n",
    "\n",
    "versi_virginica_X_train = versi_virginica_data[:,:-1]\n",
    "versi_virginica_y_train = versi_virginica_data[:,-1]\n",
    "versi_virginica_y_train = np.reshape(versi_virginica_y_train, (1, versi_virginica_y_train.shape[0]))\n",
    "\n",
    "pc_versi_virginica = PerceptronClassifier(0.1, True, True, False)\n",
    "pc_versi_virginica_prediction = trial2(pc_versi_virginica, versi_virginica_X_train, versi_virginica_y_train, X_test, y_test)\n",
    "pc_versi_virginica_prediction[pc_versi_virginica_prediction == 1] = 2\n",
    "pc_versi_virginica_prediction[pc_versi_virginica_prediction == 0] = 1\n",
    "pc_versi_virginica_prediction"
   ]
  },
  {
   "cell_type": "code",
   "execution_count": 34,
   "metadata": {},
   "outputs": [],
   "source": [
    "# By major vote\n",
    "# Combining results -> overall_result\n",
    "overall_result = []\n",
    "for num in zip(pc_setosa_versicolor_prediction, pc_setosa_virginica_prediction, pc_versi_virginica_prediction):\n",
    "    unique, counts = np.unique(num, return_counts=True)\n",
    "    #print(unique, counts)\n",
    "    index = np.where(counts == np.max(counts))\n",
    "    index = index[0][0]\n",
    "    overall_result.append(unique[index])"
   ]
  },
  {
   "cell_type": "code",
   "execution_count": 35,
   "metadata": {},
   "outputs": [
    {
     "name": "stdout",
     "output_type": "stream",
     "text": [
      "<Accuracy score>\n",
      " 0.9777777777777777\n"
     ]
    }
   ],
   "source": [
    "# Get Accuracy Score for the test\n",
    "\n",
    "corret_count = 0\n",
    "for i in zip(overall_result, y_test[0]):\n",
    "    if i[0] == i[1]:\n",
    "        corret_count += 1\n",
    "print(\"<Accuracy score>\\n\", corret_count / len(overall_result))"
   ]
  }
 ],
 "metadata": {
  "colab": {
   "collapsed_sections": [],
   "name": "lab 1 - perceptron",
   "provenance": []
  },
  "kernelspec": {
   "display_name": "Python 3",
   "language": "python",
   "name": "python3"
  },
  "language_info": {
   "codemirror_mode": {
    "name": "ipython",
    "version": 3
   },
   "file_extension": ".py",
   "mimetype": "text/x-python",
   "name": "python",
   "nbconvert_exporter": "python",
   "pygments_lexer": "ipython3",
   "version": "3.7.6"
  }
 },
 "nbformat": 4,
 "nbformat_minor": 4
}
