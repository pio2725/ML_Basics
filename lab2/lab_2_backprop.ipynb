{
 "cells": [
  {
   "cell_type": "markdown",
   "metadata": {
    "id": "DVL7_bgmIAPR"
   },
   "source": [
    "# Backpropagation Lab\n",
    "\n",
    "\n",
    "\n"
   ]
  },
  {
   "cell_type": "code",
   "execution_count": 1,
   "metadata": {
    "id": "6ZbYjZZZ_yLV"
   },
   "outputs": [],
   "source": [
    "from sklearn.base import BaseEstimator, ClassifierMixin\n",
    "from sklearn.neural_network import MLPClassifier\n",
    "from sklearn.metrics import mean_squared_error\n",
    "import numpy as np\n",
    "import matplotlib.pyplot as plt\n",
    "import sys"
   ]
  },
  {
   "cell_type": "markdown",
   "metadata": {
    "id": "sCcEPx5VIORj"
   },
   "source": [
    "## 1. (40%) Correctly implement and submit your own code for the backpropagation algorithm. \n",
    "\n",
    "## Code requirements \n",
    "- Ability to create a network structure with at least one hidden layer and an arbitrary number of nodes.\n",
    "- Random weight initialization with small random weights with mean of 0 and a variance of 1.\n",
    "- Use Stochastic/On-line training updates: Iterate and update weights after each training instance (i.e. do not attempt batch updates)\n",
    "- Implement a validation set based stopping criterion.\n",
    "- Shuffle training set at each epoch.\n",
    "- Option to include a momentum term\n",
    "\n",
    "You may use your own random train/test split or use the scikit-learn version if you want.\n",
    "\n",
    "Use your Backpropagation algorithm to solve the Debug data. We provide you with several parameters, and you should be able to replicate our results every time. When you are confident it is correct, run your script on the Evaluation data with the same parameters, and print your final weights."
   ]
  },
  {
   "cell_type": "code",
   "execution_count": 2,
   "metadata": {
    "id": "_a2KSZ_7AN0G"
   },
   "outputs": [],
   "source": [
    "class MLPClassifier(BaseEstimator,ClassifierMixin):\n",
    "\n",
    "    def __init__(self,lr, momentum, shuffle,hidden_layer_widths, Deterministic, random_weights, binaryClassification):\n",
    "        \"\"\" Initialize class with chosen hyperparameters.\n",
    "\n",
    "        Args:\n",
    "            lr (float): A learning rate / step size.\n",
    "            shuffle(boolean): Whether to shuffle the training data each epoch. DO NOT SHUFFLE for evaluation / debug datasets.\n",
    "            momentum(float): The momentum coefficent \n",
    "        Optional Args (Args we think will make your life easier):\n",
    "            hidden_layer_widths (list(int)): A list of integers which defines the width of each hidden layer if hidden layer is none do twice as many hidden nodes as input nodes.\n",
    "        Example:\n",
    "            mlp = MLPClassifier(lr=.2,momentum=.5,shuffle=False,hidden_layer_widths = [3,3]),  <--- this will create a model with two hidden layers, both 3 nodes wide\n",
    "        \"\"\"\n",
    "        self.hidden_layer_widths = hidden_layer_widths\n",
    "        self.lr = lr\n",
    "        self.momentum = momentum\n",
    "        self.shuffle = shuffle\n",
    "        self.deterministic=Deterministic\n",
    "        self.random_weights=random_weights\n",
    "        self.weights=None\n",
    "        self.delta_weights=None\n",
    "        self.binaryClassification=binaryClassification\n",
    "        self.x_valid=None\n",
    "        self.y_valid=None\n",
    "        self.x_test=None\n",
    "        self.y_test=None\n",
    "\n",
    "\n",
    "    def fit(self, X, y, output_size, initial_weights=None):\n",
    "        \"\"\" Fit the data; run the algorithm and adjust the weights to find a good solution\n",
    "\n",
    "        Args:\n",
    "            X (array-like): A 2D numpy array with the training data, excluding targets\n",
    "            y (array-like): A 2D numpy array with the training targets\n",
    "        Optional Args (Args we think will make your life easier):\n",
    "            initial_weights (array-like): allows the user to provide initial weights\n",
    "        Returns:\n",
    "            self: this allows this to be chained, e.g. model.fit(X,y).predict(X_test)\n",
    "\n",
    "        \"\"\"        \n",
    "        self.input_size=X.shape[1]\n",
    "        self.output_size=output_size\n",
    "        if self.weights is None:\n",
    "            self.initialize_weights()\n",
    "            self.delta_weights=self.get_zero_weights()\n",
    "        if self.deterministic:\n",
    "            self.epochs=10\n",
    "        else:\n",
    "            self.epochs=sys.maxsize\n",
    "            \n",
    "        self.epoch_count=0    \n",
    "        \n",
    "        curr_valid_score = -1\n",
    "        valid_count=0\n",
    "        self.mse_training=[]\n",
    "        self.mse_valid=[]\n",
    "        self.accuracy_train=[]\n",
    "        self.accuracy_valid=[]\n",
    "                \n",
    "        for _ in range(self.epochs):\n",
    "\n",
    "            curr_delta_weights=[]\n",
    "            for i in range(y.shape[0]):\n",
    "                input_x = np.insert(X[i], len(X[i]), 1) # Add the bias of 1\n",
    "                \n",
    "                # Forwarding\n",
    "                nets = [] \n",
    "                outs = [] \n",
    "                for num_layer in range(len(self.weights)):\n",
    "                    if num_layer == 0:\n",
    "                        net = self.get_nets(input_x, num_layer)\n",
    "                    else:\n",
    "                        net = self.get_nets(out, num_layer)                    \n",
    "                    nets.append(net) \n",
    "                    out = self.activation_sigmoid(net)\n",
    "                    if num_layer != len(self.weights)-1:\n",
    "                        out.append(1) # bias\n",
    "                    outs.append(out)\n",
    "                    \n",
    "                # get the output error\n",
    "                output_out = outs[-1] # 1-d array\n",
    "                output_out = np.array(output_out)                \n",
    "                temp_errors=[]\n",
    "                input_target = y[i] # 1-d array\n",
    "                output_error = (input_target-output_out)*output_out*(1-output_out)\n",
    "                \n",
    "                # Backward\n",
    "                errors = []\n",
    "                self.get_errors(errors, output_error, outs)\n",
    "                self.update_weights(errors, outs, input_x)                \n",
    "                \n",
    "            self.epoch_count += 1 \n",
    "            \n",
    "            # Debug and Eval model do not go through here\n",
    "            if self.x_valid is not None:\n",
    "                valid_score = self.score(self.x_valid, self.y_valid)\n",
    "                \n",
    "                pred_training = self.predict(X) # prediction using current weight\n",
    "                self.mse_training.append(mean_squared_error(self.inverse_transform(y), pred_training))\n",
    "                self.mse_valid.append(mean_squared_error(self.inverse_transform(self.y_valid), self.predict(self.x_valid)))\n",
    "                self.accuracy_train.append(self.score(self.x_test, self.y_test))\n",
    "                self.accuracy_valid.append(valid_score)\n",
    "                \n",
    "                if curr_valid_score < valid_score:\n",
    "                    curr_valid_score = valid_score  \n",
    "                    valid_count = 0\n",
    "                    self.curr_best_weight = self.weights.copy()\n",
    "                if valid_score <= curr_valid_score:\n",
    "                    valid_count += 1\n",
    "\n",
    "                if valid_count == 10:\n",
    "                    print(\"done\")\n",
    "                    self.weights = self.curr_best_weight\n",
    "                    break\n",
    "            if self.shuffle:\n",
    "                X,y=self._shuffle_data(X,y)      \n",
    "        return self\n",
    "    \n",
    "    def update_weights(self, errors, outs, input_x):\n",
    "        err = errors.copy()\n",
    "        err.reverse()\n",
    "        out = outs.copy()\n",
    "        out.insert(0, input_x)\n",
    "        del out[-1]\n",
    "        \n",
    "        for num_layer in range(len(self.weights)):\n",
    "            w = self.weights[num_layer]\n",
    "            e = err[num_layer]\n",
    "            o = out[num_layer]\n",
    "            \n",
    "            temp_delta=[]\n",
    "            curr_delta = self.delta_weights[num_layer]\n",
    "            for i in range(len(o)):\n",
    "                temp=[]\n",
    "                for j in range(len(e)):\n",
    "                    v = self.lr*e[j]*o[i] \n",
    "                    m = self.momentum*curr_delta[i][j]\n",
    "                    temp.append(v+m)\n",
    "                temp_delta.append(temp)\n",
    "            self.weights[num_layer] = self.weights[num_layer] + np.array(temp_delta) \n",
    "            self.delta_weights[num_layer] = temp_delta\n",
    "\n",
    "    def get_errors(self, errors, output_error, outs):\n",
    "        errors.append(output_error.tolist())\n",
    "        w = self.weights.copy()\n",
    "        w = w.tolist()\n",
    "        w.reverse()\n",
    "        o_nodes = outs.copy()\n",
    "        o_nodes.reverse()\n",
    "        del o_nodes[0] \n",
    "        num_layers = len(self.weights)\n",
    "        for layer in range(num_layers-1):\n",
    "            error=[]\n",
    "            prev_errors = errors[-1]\n",
    "            curr_outs = o_nodes[layer]\n",
    "            weight = w[layer]\n",
    "            for i in range(len(curr_outs)-1):\n",
    "                s = 0\n",
    "                for j in range(len(prev_errors)):\n",
    "                    s = s + prev_errors[j]*weight[i][j]\n",
    "                e = s*self.get_der_sig(curr_outs[i])\n",
    "                error.append(e)\n",
    "            errors.append(error)        \n",
    "    \n",
    "    def get_der_sig(self, value):\n",
    "        return value*(1-value)\n",
    "   \n",
    "    def activation_sigmoid(self, net):\n",
    "        outs=[]\n",
    "        for i in range(len(net)):\n",
    "            val = 1.0/(1.0 + np.exp(-net[i]))\n",
    "            outs.append(val)\n",
    "        return outs\n",
    "    \n",
    "    def get_nets(self, x, num_layer):\n",
    "        num_nodes = self.weights[num_layer].shape[1]\n",
    "        nets = []\n",
    "        weight_layer = self.weights[num_layer]\n",
    "        for i in range(num_nodes):\n",
    "            col = weight_layer[:,i]  \n",
    "            dot_product = np.dot(x, col)\n",
    "            nets.append(dot_product)\n",
    "        return nets\n",
    "\n",
    "    def predict(self, X):\n",
    "        \"\"\" Predict all classes for a dataset X\n",
    "        Args:\n",
    "            X (array-like): A 2D numpy array with the training data, excluding targets\n",
    "        Returns:\n",
    "            array, shape (n_samples,)\n",
    "                Predicted target values per element in X.\n",
    "        \"\"\"\n",
    "        preds=[]\n",
    "        for i in range(X.shape[0]):\n",
    "            x = np.insert(X[i], len(X[i]), 1)\n",
    "            nets = [] \n",
    "            outs = []\n",
    "            for num_layer in range(len(self.weights)):\n",
    "                if num_layer == 0:\n",
    "                    net = self.get_nets(x, num_layer)\n",
    "                else:\n",
    "                    net = self.get_nets(out, num_layer)\n",
    "                nets.append(net)  \n",
    "                out = self.activation_sigmoid(net)\n",
    "                \n",
    "                if num_layer != len(self.weights)-1:\n",
    "                    out.append(1) # bias\n",
    "                outs.append(out)\n",
    "                \n",
    "            output_out = outs[-1] # 1-d array\n",
    "            output_out = np.array(output_out)\n",
    "            index = output_out.argmax()\n",
    "            preds.append(index)\n",
    "        return preds\n",
    "            \n",
    "              \n",
    "    \n",
    "    def get_zero_weights(self):\n",
    "        self.layer_size = 2 + len(self.hidden_layer_widths)\n",
    "        self.node_size_list = [self.input_size + 1] # input nodes + bias\n",
    "        for i in range(len(self.hidden_layer_widths)):\n",
    "            self.node_size_list.append(self.hidden_layer_widths[i] + 1)\n",
    "        if self.binaryClassification:\n",
    "            self.node_size_list.append(self.output_size+1)\n",
    "        else:\n",
    "            self.node_size_list.append(self.output_size)\n",
    "        weights = np.empty(self.layer_size-1, dtype=np.ndarray)\n",
    "                \n",
    "        for i in range(len(self.node_size_list) - 1):\n",
    "            \n",
    "            if i == len(self.node_size_list)-2:\n",
    "                x=self.node_size_list[i]\n",
    "                y=self.node_size_list[i+1]\n",
    "            else:\n",
    "                x=self.node_size_list[i]\n",
    "                y=self.node_size_list[i+1]-1\n",
    "            \n",
    "            weights[i]=np.zeros((x,y))\n",
    "            \n",
    "        return weights\n",
    "    \n",
    "        \n",
    "\n",
    "    def initialize_weights(self):\n",
    "        \"\"\" Initialize weights for perceptron. Don't forget the bias!\n",
    "\n",
    "        Returns:\n",
    "\n",
    "        \"\"\"\n",
    "        if self.random_weights:\n",
    "            self.layer_size = 2 + len(self.hidden_layer_widths)\n",
    "            self.node_size_list = [self.input_size + 1] # input nodes + bias\n",
    "            for i in range(len(self.hidden_layer_widths)):\n",
    "                self.node_size_list.append(self.hidden_layer_widths[i] + 1)\n",
    "            if self.binaryClassification:\n",
    "                self.node_size_list.append(self.output_size+1)\n",
    "            else:\n",
    "                self.node_size_list.append(self.output_size)\n",
    "            weights = np.empty(self.layer_size-1, dtype=np.ndarray)\n",
    "                \n",
    "            for i in range(len(self.node_size_list) - 1):\n",
    "            \n",
    "                if i == len(self.node_size_list)-2:\n",
    "                    x=self.node_size_list[i]\n",
    "                    y=self.node_size_list[i+1]\n",
    "                else:\n",
    "                    x=self.node_size_list[i]\n",
    "                    y=self.node_size_list[i+1]-1\n",
    "            \n",
    "                weights[i]=np.random.uniform(-1,1,(x,y))\n",
    "            self.weights = weights\n",
    "        else:\n",
    "            # random zeros\n",
    "            self.weights = self.get_zero_weights()\n",
    "            \n",
    "        return [0]\n",
    "    \n",
    "    def inverse_transform(self, y):\n",
    "        temp=[]\n",
    "        for i in range(y.shape[0]):\n",
    "            for j in range(y.shape[1]):\n",
    "                if y[i][j] == 1:\n",
    "                    temp.append(j)\n",
    "        return temp\n",
    "\n",
    "    def score(self, X, y):\n",
    "        \"\"\" Return accuracy of model on a given dataset. Must implement own score function.\n",
    "\n",
    "        Args:\n",
    "            X (array-like): A 2D numpy array with data, excluding targets\n",
    "            y (array-like): A 2D numpy array with targets\n",
    "\n",
    "        Returns:\n",
    "            score : float\n",
    "                Mean accuracy of self.predict(X) wrt. y.\n",
    "        \"\"\"\n",
    "        preds = self.predict(X)\n",
    "        temp = self.inverse_transform(y)\n",
    "        return self.get_num_match(preds, temp) / len(temp)\n",
    "        \n",
    "    def get_num_match(self, pred, real):\n",
    "        count = 0\n",
    "        for i in range(len(pred)):\n",
    "            if pred[i] == real[i]:\n",
    "                count += 1\n",
    "        return count\n",
    "        \n",
    "    def set_valid_sets(self, x, y):\n",
    "        self.x_valid=x\n",
    "        self.y_valid=y\n",
    "        \n",
    "    def set_test_sets(self, x, y):\n",
    "        self.x_test=x\n",
    "        self.y_test=y\n",
    "        \n",
    "    def _shuffle_data(self, X, y):\n",
    "        \"\"\" Shuffle the data! This _ prefix suggests that this method should only be called internally.\n",
    "            It might be easier to concatenate X & y and shuffle a single 2D array, rather than\n",
    "             shuffling X and y exactly the same way, independently.\n",
    "        \"\"\"\n",
    "        x_num_col = X.shape[1]\n",
    "        temp = np.concatenate((X,y), axis = 1)\n",
    "        np.random.shuffle(temp)\n",
    "        x_result = temp[:, :x_num_col]\n",
    "        y_result = temp[:, x_num_col:]\n",
    "        return x_result, y_result\n",
    "\n",
    "    ### Not required by sk-learn but required by us for grading. Returns the weights.\n",
    "    def get_weights(self):\n",
    "        return self.weights\n"
   ]
  },
  {
   "cell_type": "markdown",
   "metadata": {
    "id": "KibCIXIThpbE"
   },
   "source": [
    "## 1.1 \n",
    "\n",
    "Debug and Evaluate your model using the following parameters:\n",
    "\n",
    "Learning Rate = 0.1\\\n",
    "Momentum = 0.5\\\n",
    "Deterministic = 10 [This means run it 10 epochs and should be the same everytime you run it]\\\n",
    "Shuffle = False\\\n",
    "Validation size = 0\\\n",
    "Initial Weights = All zeros\\\n",
    "Hidden Layer Widths = [4]\n",
    "\n",
    "---\n",
    "\n",
    "### 1.1.1 Debug \n",
    "\n",
    "Debug your model by running it on the [Debug Dataset](https://raw.githubusercontent.com/cs472ta/CS472/master/datasets/linsep2nonorigin.arff)\n",
    "\n",
    "\n",
    "Expected Results for Binary Classification (i.e. 1 output node): [debug_bp_0.csv](https://github.com/cs472ta/CS472/blob/master/debug_solutions/debug_bp_0.csv) \n",
    "\n",
    "$$ \\text{Layer 1} = \\begin{bmatrix} -8.81779797\\text{e}-05 & -8.81779797\\text{e}-05 & -8.81779797\\text{e}-05 & -8.81779797\\text{e}-05 \\\\ 7.82757731\\text{e}-04 & 7.82757731\\text{e}-04 & 7.82757731\\text{e}-04 & 7.82757731\\text{e}-04 \\\\ -3.94353645\\text{e}-03 & -3.94353645\\text{e}-03 & -3.94353645\\text{e}-03 & -3.94353645\\text{e}-03 \\end{bmatrix}$$\n",
    "                                             \n",
    "$$ \\text{Layer 2} = \\begin{bmatrix} -0.01060888 \\\\ -0.01060888 \\\\ -0.01060888 \\\\ -0.01060888 \\\\ -0.02145495 \\end{bmatrix}$$\n",
    "\n",
    "(The weights do not need to be in this order or shape.)\n",
    "\n",
    "Expected Results for One Hot Vector Classification (i.e. 2 output nodes): [debug_bp_2outs.csv](https://github.com/cs472ta/CS472/blob/master/debug_solutions/debug_bp_2outs.csv) \n",
    "\n",
    "$$ \\text{Layer 1} = \\begin{bmatrix} -0.00018149 & -0.00018149 & -0.00018149 & -0.00018149 \\\\ 0.00157468 & 0.00157468 & 0.00157468 & 0.00157468 \\\\ -0.00788218 & -0.00788218 & -0.00788218 & -0.00788218 \\end{bmatrix}$$\n",
    "                          \n",
    "$$ \\text{Layer 2} = \\begin{bmatrix} 0.01050642 & -0.01050642 \\\\ 0.01050642 & -0.01050642 \\\\ 0.01050642 & -0.01050642 \\\\ 0.01050642 & -0.01050642 \\\\ 0.02148778 & -0.02148778 \\end{bmatrix}$$\n",
    "\n",
    "(The weights do not need to be in this order or shape.)"
   ]
  },
  {
   "cell_type": "code",
   "execution_count": 3,
   "metadata": {
    "id": "KgAyy82gixIF"
   },
   "outputs": [
    {
     "data": {
      "text/plain": [
       "array([array([[-0.00018149, -0.00018149, -0.00018149, -0.00018149],\n",
       "       [ 0.00157468,  0.00157468,  0.00157468,  0.00157468],\n",
       "       [-0.00788218, -0.00788218, -0.00788218, -0.00788218]]),\n",
       "       array([[ 0.01050642, -0.01050642],\n",
       "       [ 0.01050642, -0.01050642],\n",
       "       [ 0.01050642, -0.01050642],\n",
       "       [ 0.01050642, -0.01050642],\n",
       "       [ 0.02148778, -0.02148778]])], dtype=object)"
      ]
     },
     "execution_count": 3,
     "metadata": {},
     "output_type": "execute_result"
    }
   ],
   "source": [
    "# Load debug data\n",
    "from scipy.io import arff\n",
    "import pandas as pd\n",
    "from sklearn.preprocessing import OneHotEncoder\n",
    "onehot_encoder = OneHotEncoder(sparse=False)\n",
    "\n",
    "# Load debug data\n",
    "debug_data = arff.loadarff(\"debug_dataset.arff\")\n",
    "debug_df = pd.DataFrame(debug_data[0])\n",
    "debug_df['class'] = debug_df['class'].str.decode('utf-8')\n",
    "debug_df['class'] = debug_df['class'].apply(pd.to_numeric)\n",
    "np_debug = np.array(debug_df)\n",
    "\n",
    "X_debug = np_debug[:,:-1]\n",
    "y_debug = np_debug[:,-1]\n",
    "y_debug = np.reshape(y_debug, (y_debug.shape[0],1)) # (8,1)\n",
    "y_encoded_debug = onehot_encoder.fit_transform(y_debug)\n",
    "\n",
    "#(self,lr=.1, momentum=0, shuffle=True,hidden_layer_widths=None, Deterministic=True, random_weights=True, binaryClassification=False):\n",
    "# Train on debug data\n",
    "mlp_debug = MLPClassifier(0.1, 0.5, False, [4], True, False, False)\n",
    "mlp_debug = mlp_debug.fit(X_debug, y_encoded_debug, 2)\n",
    "\n",
    "# Check weights\n",
    "mlp_debug.weights"
   ]
  },
  {
   "cell_type": "markdown",
   "metadata": {
    "id": "kY3VNB1ui03N"
   },
   "source": [
    "### 1.1.2 Evaluation\n",
    "\n",
    "We will evaluate your model based on it's performance on the [Evaluation Dataset](https://raw.githubusercontent.com/cs472ta/CS472/master/datasets/data_banknote_authentication.arff)"
   ]
  },
  {
   "cell_type": "code",
   "execution_count": 4,
   "metadata": {
    "id": "2yAxA78QjDh2"
   },
   "outputs": [
    {
     "data": {
      "text/plain": [
       "array([array([[ 1.63828721,  1.63828721,  1.63828721,  1.63828721],\n",
       "       [ 1.09612249,  1.09612249,  1.09612249,  1.09612249],\n",
       "       [ 1.23447594,  1.23447594,  1.23447594,  1.23447594],\n",
       "       [ 0.39269487,  0.39269487,  0.39269487,  0.39269487],\n",
       "       [-2.09316151, -2.09316151, -2.09316151, -2.09316151]]),\n",
       "       array([[ 1.81695611, -1.81695611],\n",
       "       [ 1.81695611, -1.81695611],\n",
       "       [ 1.81695611, -1.81695611],\n",
       "       [ 1.81695611, -1.81695611],\n",
       "       [-4.17098071,  4.17098071]])], dtype=object)"
      ]
     },
     "execution_count": 4,
     "metadata": {},
     "output_type": "execute_result"
    }
   ],
   "source": [
    "# Load evaluation data\n",
    "eval_data = arff.loadarff(\"eval_dataset.arff\")\n",
    "eval_df = pd.DataFrame(eval_data[0])\n",
    "eval_df['class'] = eval_df['class'].str.decode('utf-8')\n",
    "eval_df['class'] = eval_df['class'].apply(pd.to_numeric)\n",
    "np_eval = np.array(eval_df)\n",
    "\n",
    "# Train on evaluation data\n",
    "X_eval = np_eval[:,:-1]\n",
    "y_eval = np_eval[:,-1]\n",
    "y_eval = np.reshape(y_eval, (y_eval.shape[0],1))\n",
    "y_encoded_eval = onehot_encoder.fit_transform(y_eval)\n",
    "\n",
    "mlp_eval = MLPClassifier(0.1, 0.5, False, [4], True, False, False)\n",
    "mlp_eval = mlp_eval.fit(X_eval, y_encoded_eval,2)\n",
    "\n",
    "# Print weights\n",
    "mlp_eval.weights"
   ]
  },
  {
   "cell_type": "markdown",
   "metadata": {
    "id": "9vWiTdlbR2Xh"
   },
   "source": [
    "## 2. (10%) Backpropagation on the Iris Classification problem.\n",
    "\n",
    "Load the Iris Dataset [Iris Dataset](https://raw.githubusercontent.com/cs472ta/CS472/master/datasets/iris.arff)\n",
    "\n",
    "Parameters:\n",
    "- One layer of hidden nodes with the number of hidden nodes being twice the number of inputs.\n",
    "- Use a 80/20 split of the data for the training/test set.\n",
    "- Use a learning rate of 0.1\n",
    "- Use a validation set (15% of the training set) taken from the training set for your stopping criteria\n",
    "- Create one graph with MSE (mean squared error) over epochs from the training set and validation set\n",
    "- Create one graph with classification accuracy (% classified correctly) over epochs from the training set and validation set\n",
    "- Print out your test set accuracy\n",
    "\n",
    "The results for the different measurables should be shown with a different color, line type, etc. Typical backpropagation accuracies for the Iris data set are 85-95%.\n",
    "\n",
    "---"
   ]
  },
  {
   "cell_type": "code",
   "execution_count": 33,
   "metadata": {
    "id": "4SSoasDQSKXb"
   },
   "outputs": [
    {
     "name": "stdout",
     "output_type": "stream",
     "text": [
      "done\n",
      "0.9333333333333333\n"
     ]
    }
   ],
   "source": [
    "from sklearn.model_selection import train_test_split\n",
    "\n",
    "# Iris Classification\n",
    "iris_data = arff.loadarff(\"iris.arff\")\n",
    "iris_df = pd.DataFrame(iris_data[0])\n",
    "iris_df['class'] = iris_df['class'].str.decode('utf-8')\n",
    "\n",
    "# setosa:0 versicolor:1 virginica:2\n",
    "np_iris = np.array(iris_df)\n",
    "X = np_iris[:,:-1]\n",
    "y = np_iris[:,-1]\n",
    "y[y == 'Iris-setosa']=0\n",
    "y[y == 'Iris-versicolor']=1\n",
    "y[y == 'Iris-virginica']=2\n",
    "y = np.reshape(y, (y.shape[0],1))\n",
    "y = onehot_encoder.fit_transform(y)\n",
    "X_train, X_test, y_train, y_test = train_test_split(X,y,test_size=0.2)\n",
    "\n",
    "# Take the validation set\n",
    "valid_index = int(len(X_train) * 0.15)\n",
    "X_valid = X_train[:valid_index, :]\n",
    "y_valid = y_train[:valid_index,:]\n",
    "# Delete the validation set in the training sets\n",
    "X_train = X_train[valid_index:,:]\n",
    "y_train = y_train[valid_index:,:]\n",
    "\n",
    "mlp_iris = MLPClassifier(0.1, 0, True, [8], False, True, False)\n",
    "mlp_iris.set_valid_sets(X_valid, y_valid)\n",
    "mlp_iris.set_test_sets(X_test, y_test)\n",
    "\n",
    "mlp_iris = mlp_iris.fit(X_train, y_train,3)\n",
    "pred = mlp_iris.predict(X_test)\n",
    "print(mlp_iris.score(X_test, y_test))"
   ]
  },
  {
   "cell_type": "code",
   "execution_count": 34,
   "metadata": {},
   "outputs": [
    {
     "data": {
      "image/png": "[encoded data removed]",
      "text/plain": [
       "<Figure size 432x288 with 1 Axes>"
      ]
     },
     "metadata": {
      "needs_background": "light"
     },
     "output_type": "display_data"
    }
   ],
   "source": [
    "# Graph with MSE, epochs vs MSE(valid set, training set)\n",
    "epochs = np.arange(1,mlp_iris.epoch_count+1)\n",
    "plt.plot(epochs, mlp_iris.mse_training, label=\"mse_training\")\n",
    "plt.plot(epochs, mlp_iris.mse_valid, label=\"mse_validation\")\n",
    "plt.title(\"MSE vs Epochs\")\n",
    "plt.xlabel(\"Epochs\")\n",
    "plt.ylabel(\"MSE\")\n",
    "plt.legend()\n",
    "plt.show()"
   ]
  },
  {
   "cell_type": "code",
   "execution_count": 35,
   "metadata": {},
   "outputs": [
    {
     "data": {
      "image/png": "[encoded data removed]",
      "text/plain": [
       "<Figure size 432x288 with 1 Axes>"
      ]
     },
     "metadata": {
      "needs_background": "light"
     },
     "output_type": "display_data"
    }
   ],
   "source": [
    "#Create graph with classification accuracy (% classified correctly) over epochs from the training set and validation set\n",
    "plt.plot(epochs, mlp_iris.accuracy_train, label=\"accuracy_train\")\n",
    "plt.plot(epochs, mlp_iris.accuracy_valid, label=\"accuracy_valid\")\n",
    "plt.title(\"Accuracy vs Epochs\")\n",
    "plt.xlabel(\"Epochs\")\n",
    "plt.ylabel(\"Accuracy\")\n",
    "plt.legend()\n",
    "plt.show()"
   ]
  },
  {
   "cell_type": "code",
   "execution_count": 36,
   "metadata": {},
   "outputs": [
    {
     "name": "stdout",
     "output_type": "stream",
     "text": [
      "0.9333333333333333\n"
     ]
    }
   ],
   "source": [
    "# Test set Accuracy\n",
    "print(mlp_iris.score(X_test, y_test))"
   ]
  },
  {
   "cell_type": "markdown",
   "metadata": {
    "id": "SIRG42TgSR4x"
   },
   "source": [
    "## 3. (10%) Working with the Vowel Dataset - Learning Rate\n",
    "\n",
    "Load the Vowel Dataset [Vowel Dataset](https://raw.githubusercontent.com/cs472ta/CS472/master/datasets/vowel.arff)\n",
    "\n",
    "- Use one layer of hidden nodes with the number of hidden nodes being twice the number of inputs.\n",
    "- Use random 80/20 splits of the data for the training/test set.\n",
    "- Use a validation set (15% of the training set) taken from the training set for your stopping criteria\n",
    "- Try some different learning rates (LR). Note that each LR will probably require a different number of epochs to learn. \n",
    "\n",
    "- For each LR you test, plot their validation's set MSE over Epochs on the same graph. Graph 4-5 different LRs and make them different enough to see a difference between them.\n",
    "\n",
    "In general, whenever you are testing a parameter such as LR, # of hidden nodes, etc., test values until no more improvement is found. For example, if 20 hidden nodes did better than 10, you would not stop at 20, but would try 40, etc., until you no longer get improvement.\n",
    "\n",
    "If you would like you may average the results of multiple initial conditions (e.g. 3) per LR, and that obviously would give more accurate results.\n",
    "\n",
    "<img src=https://raw.githubusercontent.com/cs472ta/CS472/master/images/backpropagation/backprop_val_set_MSE_vs_epochs.png width=500 height=500  align=\"left\">"
   ]
  },
  {
   "cell_type": "code",
   "execution_count": 39,
   "metadata": {
    "id": "KBGUn43ASiXW"
   },
   "outputs": [],
   "source": [
    "from sklearn.compose import ColumnTransformer\n",
    "from sklearn.preprocessing import OneHotEncoder\n",
    "\n",
    "# Train on each dataset\n",
    "\n",
    "vowel_data = arff.loadarff(\"vowel.arff\")\n",
    "vowel_df = pd.DataFrame(vowel_data[0])\n",
    "vowel_df['Class'] = vowel_df['Class'].str.decode('utf-8')\n",
    "vowel_df['Train or Test'] = vowel_df['Train or Test'].str.decode('utf-8')\n",
    "vowel_df['Speaker Number'] = vowel_df['Speaker Number'].str.decode('utf-8')\n",
    "vowel_df['Sex'] = vowel_df['Sex'].str.decode('utf-8')\n",
    "\n",
    "ct = ColumnTransformer(transformers=[(\"encoder\", OneHotEncoder(), ['Train or Test', 'Speaker Number', 'Sex'])], remainder=\"passthrough\")\n",
    "vowel_df = ct.fit_transform(vowel_df)\n",
    "\n",
    "np_vowel = np.array(vowel_df)\n",
    "X = np_vowel[:,:-1]\n",
    "y = np_vowel[:,-1]\n",
    "y = onehot_encoder.fit_transform(np.reshape(y,(y.shape[0],1)))\n",
    "\n",
    "X_train, X_test, y_train, y_test = train_test_split(X,y,test_size=0.2)\n",
    "\n",
    "# Take the validation set\n",
    "valid_index = int(len(X_train) * 0.15)\n",
    "X_valid = X_train[:valid_index, :]\n",
    "y_valid = y_train[:valid_index,:]\n",
    "# Delete the validation set in the training sets\n",
    "X_train = X_train[valid_index:,:]\n",
    "y_train = y_train[valid_index:,:]"
   ]
  },
  {
   "cell_type": "code",
   "execution_count": 38,
   "metadata": {},
   "outputs": [
    {
     "name": "stdout",
     "output_type": "stream",
     "text": [
      "done\n"
     ]
    }
   ],
   "source": [
    "mlp_vowel_1 = MLPClassifier(0.01, 0, True, [58], False, True, False)\n",
    "mlp_vowel_1.set_valid_sets(X_valid, y_valid)\n",
    "mlp_vowel_1.set_test_sets(X_test, y_test)\n",
    "mlp_vowel_1 = mlp_vowel_1.fit(X_train, y_train, 11)\n",
    "mse_vowel_1 = mlp_vowel_1.mse_valid"
   ]
  },
  {
   "cell_type": "code",
   "execution_count": 40,
   "metadata": {},
   "outputs": [
    {
     "name": "stdout",
     "output_type": "stream",
     "text": [
      "done\n"
     ]
    }
   ],
   "source": [
    "mlp_vowel_2 = MLPClassifier(0.115, 0, True, [58], False, True, False)\n",
    "mlp_vowel_2.set_valid_sets(X_valid, y_valid)\n",
    "mlp_vowel_2.set_test_sets(X_test, y_test)\n",
    "mlp_vowel_2 = mlp_vowel_2.fit(X_train, y_train, 11)\n",
    "mse_vowel_2 = mlp_vowel_2.mse_valid"
   ]
  },
  {
   "cell_type": "code",
   "execution_count": 41,
   "metadata": {},
   "outputs": [
    {
     "name": "stdout",
     "output_type": "stream",
     "text": [
      "done\n"
     ]
    }
   ],
   "source": [
    "mlp_vowel_3 = MLPClassifier(0.3, 0, True, [58], False, True, False)\n",
    "mlp_vowel_3.set_valid_sets(X_valid, y_valid)\n",
    "mlp_vowel_3.set_test_sets(X_test, y_test)\n",
    "mlp_vowel_3 = mlp_vowel_3.fit(X_train, y_train, 11)\n",
    "mse_vowel_3 = mlp_vowel_3.mse_valid"
   ]
  },
  {
   "cell_type": "code",
   "execution_count": 42,
   "metadata": {},
   "outputs": [
    {
     "name": "stdout",
     "output_type": "stream",
     "text": [
      "done\n"
     ]
    }
   ],
   "source": [
    "mlp_vowel_4 = MLPClassifier(0.8, 0, True, [58], False, True, False)\n",
    "mlp_vowel_4.set_valid_sets(X_valid, y_valid)\n",
    "mlp_vowel_4.set_test_sets(X_test, y_test)\n",
    "mlp_vowel_4 = mlp_vowel_4.fit(X_train, y_train, 11)\n",
    "mse_vowel_4 = mlp_vowel_4.mse_valid"
   ]
  },
  {
   "cell_type": "code",
   "execution_count": 45,
   "metadata": {},
   "outputs": [
    {
     "data": {
      "image/png": "[encoded data removed]",
      "text/plain": [
       "<Figure size 432x288 with 1 Axes>"
      ]
     },
     "metadata": {
      "needs_background": "light"
     },
     "output_type": "display_data"
    }
   ],
   "source": [
    "plt.plot(np.arange(0, len(mse_vowel_1)), mse_vowel_1, label=\"lr=0.01\")\n",
    "plt.plot(np.arange(0, len(mse_vowel_2)), mse_vowel_2, label=\"lr=0.115\")\n",
    "plt.plot(np.arange(0, len(mse_vowel_3)), mse_vowel_3, label=\"lr=0.3\")\n",
    "plt.plot(np.arange(0, len(mse_vowel_4)), mse_vowel_4, label=\"lr=0.8\")\n",
    "plt.title(\"MSE vs Epochs\")\n",
    "plt.xlabel(\"Epochs\")\n",
    "plt.ylabel(\"Validation Set MSE\")\n",
    "plt.legend()\n",
    "plt.show()"
   ]
  },
  {
   "cell_type": "markdown",
   "metadata": {
    "id": "mOteTlV6S0bq"
   },
   "source": [
    "## 3.1 (5%) Working with the Vowel Dataset - Intuition\n",
    "- Discuss the effect of varying learning rates. \n",
    "- Discuss why the vowel data set might be more difficult than Iris\n",
    "    - Report both datasets' baseline accuracies and best **test** set accuracies. \n",
    "- Consider which of the vowel dataset's given input features you should actually use (Train/test, speaker, gender, ect) and discuss why you chose the ones you did.\n",
    "\n",
    "Typical backpropagation accuracies for the Vowel data set are above 75%.\n",
    "\n"
   ]
  },
  {
   "cell_type": "code",
   "execution_count": 44,
   "metadata": {},
   "outputs": [
    {
     "name": "stdout",
     "output_type": "stream",
     "text": [
      "0.6060606060606061\n",
      "0.5808080808080808\n",
      "0.9040404040404041\n",
      "0.898989898989899\n"
     ]
    }
   ],
   "source": [
    "print(mlp_vowel_1.score(X_test,y_test))\n",
    "print(mlp_vowel_2.score(X_test,y_test))\n",
    "print(mlp_vowel_3.score(X_test,y_test))\n",
    "print(mlp_vowel_4.score(X_test,y_test))"
   ]
  },
  {
   "cell_type": "markdown",
   "metadata": {},
   "source": [
    "As I looked at the results, it seems that appropriate learning rate is critical for our models.\n",
    "If learning rate is too small, our accuracy does not really improve, so it results in very low accuracy. If the learning rate is too big, then it also stops iterating with too big jumps.\n",
    "\n",
    "Looking at the vowel dataset, the speaker column seems to have too many possible features, and I think that is one of the reasons this dataset is more difficult than the iris dataset.\n",
    "I have run the iris model many times, and the accuracy was above 90% most of the time, and the best result was almost 100%. \n",
    "For the vowel dataset, the accuracy of the model with the very low learning rate was below 75%, but the baseline accuracy was around 78%, and got a best result of 96% with appropriate learning rate.\n",
    "\n",
    "I think I would not use the speaker feature since it has too many variations in it, but I would use train/test, gender, and other features to train our model.\n",
    "\n"
   ]
  },
  {
   "cell_type": "markdown",
   "metadata": {
    "id": "SIRG42TgSR4x"
   },
   "source": [
    "## 3.2 (10%) Working with the Vowel Dataset - Hidden Layer Nodes\n",
    "\n",
    "Using the best LR you discovered, experiment with different numbers of hidden nodes.\n",
    "\n",
    "- Start with 1 hidden node, then 2, and then double them for each test until you get no more improvement in accuracy. \n",
    "- For each number of hidden nodes find the best validation set solution (in terms of validation set MSE).  \n",
    "- Create one graph with MSE for the training set and validation set on the y-axis and # of hidden nodes on the x-axis.\n",
    "- Report the final test set accuracy for every # of hidden nodes you experimented on"
   ]
  },
  {
   "cell_type": "code",
   "execution_count": 46,
   "metadata": {},
   "outputs": [
    {
     "name": "stdout",
     "output_type": "stream",
     "text": [
      "done\n",
      "done\n",
      "done\n",
      "done\n",
      "done\n"
     ]
    }
   ],
   "source": [
    "# Using LR as 0.3\n",
    "\n",
    "node = 0\n",
    "acc=[]\n",
    "min_mse_valid=[]\n",
    "min_mse_train=[]\n",
    "while True:\n",
    "    hidden_node = pow(2, node)\n",
    "    mlp_hidden = MLPClassifier(0.3, 0, True, [hidden_node], False, True, False)\n",
    "    mlp_hidden.set_valid_sets(X_valid, y_valid)\n",
    "    mlp_hidden.set_test_sets(X_test, y_test)\n",
    "    mlp_hidden = mlp_hidden.fit(X_train, y_train, 11)\n",
    "    min_mse_valid.append(min(mlp_hidden.mse_valid))\n",
    "    min_mse_train.append(min(mlp_hidden.mse_training))\n",
    "    acc.append(mlp_hidden.score(X_test, y_test))\n",
    "    if len(acc) >= 3:\n",
    "        if acc[len(acc)-1] <= acc[len(acc)-2]:\n",
    "            break\n",
    "    node +=1 "
   ]
  },
  {
   "cell_type": "code",
   "execution_count": 47,
   "metadata": {},
   "outputs": [
    {
     "data": {
      "image/png": "[encoded data removed]",
      "text/plain": [
       "<Figure size 432x288 with 1 Axes>"
      ]
     },
     "metadata": {
      "needs_background": "light"
     },
     "output_type": "display_data"
    }
   ],
   "source": [
    "# MSE vs # of hidden nodes\n",
    "hidden_x=[]\n",
    "for i in range(node):\n",
    "    hidden_x.append(pow(2,i))\n",
    "plt.plot(hidden_x, min_mse_valid[:-1], label=\"mse_valid\")\n",
    "plt.plot(hidden_x, min_mse_train[:-1], label=\"mse_train\")\n",
    "plt.legend()\n",
    "plt.title(\"MSE vs # of Hidden Nodes\")\n",
    "plt.xlabel(\"# of Hidden Nodes\")\n",
    "plt.ylabel(\"MSE\")\n",
    "plt.show()"
   ]
  },
  {
   "cell_type": "code",
   "execution_count": 48,
   "metadata": {},
   "outputs": [
    {
     "name": "stdout",
     "output_type": "stream",
     "text": [
      "# of Hidden nodes =  1  Accuracy =  0.1414141414141414\n",
      "# of Hidden nodes =  2  Accuracy =  0.2676767676767677\n",
      "# of Hidden nodes =  4  Accuracy =  0.6666666666666666\n",
      "# of Hidden nodes =  8  Accuracy =  0.803030303030303\n"
     ]
    }
   ],
   "source": [
    "# Report final test accuracy\n",
    "acc= acc[:-1]\n",
    "for i in range(len(acc)):\n",
    "    print(\"# of Hidden nodes = \", hidden_x[i], \" Accuracy = \", acc[i])"
   ]
  },
  {
   "cell_type": "markdown",
   "metadata": {
    "id": "qmq9GSbJS8k2"
   },
   "source": [
    "*Discuss Hidden Layer Nodes here*\n",
    "\n"
   ]
  },
  {
   "cell_type": "markdown",
   "metadata": {
    "id": "SIRG42TgSR4x"
   },
   "source": [
    "## 3.3 (10%) Working with the Vowel Dataset - Momentum\n",
    "\n",
    "Try some different momentum terms using the best number of hidden nodes and LR from your earlier experiments.\n",
    "\n",
    "- Create a graph similar to step 3.2, but with momentum on the x-axis and number of epochs until validation set convergence on the y-axis.\n",
    "- You are trying to see how much momentum speeds up learning. "
   ]
  },
  {
   "cell_type": "code",
   "execution_count": 49,
   "metadata": {},
   "outputs": [
    {
     "name": "stdout",
     "output_type": "stream",
     "text": [
      "done\n",
      "done\n",
      "done\n",
      "done\n",
      "done\n",
      "done\n"
     ]
    }
   ],
   "source": [
    "# LR of 0.4 and # of Hidden Node: 16\n",
    "import warnings\n",
    "warnings.filterwarnings('ignore')\n",
    "\n",
    "momentum=0.2\n",
    "num_epochs=[]\n",
    "for _ in range(6):\n",
    "    hidden_node = pow(2, node)\n",
    "    mlp_momentum = MLPClassifier(0.4, momentum, True, [16], False, True, False)\n",
    "    mlp_momentum.set_valid_sets(X_valid, y_valid)\n",
    "    mlp_momentum.set_test_sets(X_test, y_test)\n",
    "    mlp_momentum = mlp_momentum.fit(X_train, y_train, 11)\n",
    "    num_epochs.append(mlp_momentum.epoch_count)\n",
    "    \n",
    "    momentum += 0.2"
   ]
  },
  {
   "cell_type": "code",
   "execution_count": 50,
   "metadata": {},
   "outputs": [
    {
     "data": {
      "image/png": "[encoded data removed]",
      "text/plain": [
       "<Figure size 432x288 with 1 Axes>"
      ]
     },
     "metadata": {
      "needs_background": "light"
     },
     "output_type": "display_data"
    }
   ],
   "source": [
    "mom = np.arange(0.2, len(num_epochs)*0.2, 0.2)\n",
    "plt.plot(mom, num_epochs)\n",
    "plt.title(\"Momentum Vs # of Epochs\")\n",
    "plt.xlabel(\"Momentum\")\n",
    "plt.ylabel(\"# of Epochs\")\n",
    "plt.show()"
   ]
  },
  {
   "cell_type": "markdown",
   "metadata": {
    "id": "qmq9GSbJS8k2"
   },
   "source": [
    "It is clear that there were less number of epochs to run when the momemtum was higher. This is because the higher momentum speeds up the learning. The slide says the common rate for momentum is 0.9, and I could see that the number of epochs was the lowest around the momentum of 0.9 or 1.0. \n",
    "\n"
   ]
  },
  {
   "cell_type": "markdown",
   "metadata": {
    "id": "oBBmeNQ7jvcQ"
   },
   "source": [
    "## 4.1 (10%) Use the scikit-learn (SK) version of the MLP classifier on the Iris and Vowel data sets.  \n",
    "\n",
    "You do not need to go through all the steps above, nor graph results. Compare results (accuracy and learning speed) between your version and theirs for some selection of hyper-parameters. Try different hyper-parameters and comment on their effect.\n",
    "\n",
    "At a minimum, try\n",
    "\n",
    "- number of hidden nodes and layers\n",
    "- different activation functions\n",
    "- learning rate\n",
    "- regularization and parameters\n",
    "- momentum (and try nesterov)\n",
    "- early stopping"
   ]
  },
  {
   "cell_type": "code",
   "execution_count": 51,
   "metadata": {
    "id": "OFQv70W2VyqJ"
   },
   "outputs": [
    {
     "name": "stdout",
     "output_type": "stream",
     "text": [
      "Iris dataset MLP score :  0.9666666666666667\n"
     ]
    }
   ],
   "source": [
    "from sklearn.neural_network import MLPClassifier\n",
    "\n",
    "# Iris data set\n",
    "np_iris\n",
    "X = np_iris[:,:-1]\n",
    "y = np_iris[:,-1]\n",
    "y = np.asarray(y, dtype=np.int8)\n",
    "X_train, X_test, y_train, y_test = train_test_split(X, y, test_size = 0.2)\n",
    "\n",
    "iris_clf = MLPClassifier(hidden_layer_sizes=20, max_iter=1000, alpha=0.0001, learning_rate_init=0.15, activation='tanh', momentum=0.9, early_stopping=False)\n",
    "iris_clf.fit(X_train, y_train)\n",
    "print(\"Iris dataset MLP score : \" , iris_clf.score(X_test, y_test))"
   ]
  },
  {
   "cell_type": "code",
   "execution_count": 52,
   "metadata": {},
   "outputs": [
    {
     "name": "stdout",
     "output_type": "stream",
     "text": [
      "Vowel dataset MLP score :  0.9494949494949495\n"
     ]
    }
   ],
   "source": [
    "# Train on voting dataset\n",
    "X = np_vowel[:,:-1]\n",
    "y = np_vowel[:,-1]\n",
    "X_train, X_test, y_train, y_test = train_test_split(X, y, test_size = 0.2)\n",
    "vowel_clf = MLPClassifier(hidden_layer_sizes=50, max_iter=1000, alpha=0.0001, learning_rate_init=0.1, activation='tanh', momentum=0.9, early_stopping=False)\n",
    "vowel_clf.fit(X_train, y_train)\n",
    "print(\"Vowel dataset MLP score : \" , vowel_clf.score(X_test, y_test))"
   ]
  },
  {
   "cell_type": "markdown",
   "metadata": {
    "id": "BqSFAXwlk3Ms"
   },
   "source": [
    "The score on the iris dataset was pretty similar to my model, but the sklearn's MLP score on the vowel dataset was more stable.\n",
    "For number of hidden nodes and layers, I tried different numbers for the layers but it improved the accruacy sometimes, but not every time. I think it depends on how complex our problem is and on other things. Too small numbers for the hidden nodes gave low accuracy score, so appropriate hidden number of nodes was needed.\n",
    "I tried tanh, relu, logistic, and identity, and I decided to use tan hyperbolic function for the activation function since it gave the best result among those.\n",
    "For learning rate, about 0.1-0.2 was right since the rate higher than that gave worse accuracy scores. Also, I tried to differentiate the alpha rate for varying regularization but very small alpha rate was needed. I tried different momentum rate and decided to use 0.9, and also tried the early stopping as true, but the accuracy score was not very good, so I decided to not use the early stopping tool."
   ]
  },
  {
   "cell_type": "markdown",
   "metadata": {
    "id": "oBBmeNQ7jvcQ"
   },
   "source": [
    "## 4.2 (5%) Using the Iris Dataset automatically adjust hyper-parameters using your choice of grid/random search\n",
    "- Use a grid or random search approach across a reasonable subset of hyper-parameters from the above \n",
    "- Report your best accuracy and hyper-parameters. "
   ]
  },
  {
   "cell_type": "code",
   "execution_count": 53,
   "metadata": {
    "id": "OFQv70W2VyqJ"
   },
   "outputs": [],
   "source": [
    "from sklearn.model_selection import GridSearchCV\n",
    "from sklearn.metrics import classification_report\n",
    "\n",
    "# Grid Search\n",
    "iris = MLPClassifier(max_iter=1000)\n",
    "X = np_iris[:,:-1]\n",
    "y = np_iris[:,-1]\n",
    "y = np.asarray(y, dtype=np.int8)\n",
    "X_train, X_test, y_train, y_test = train_test_split(X, y, test_size = 0.2)\n",
    "space = {\n",
    "    'hidden_layer_sizes' : [(50,50,50,),(100,),(20,)],\n",
    "    'activation' : ['tanh', 'logistic','relu'],\n",
    "    'momentum' : [0.3, 0.7, 0.9],\n",
    "    'learning_rate': ['constant','adaptive'],\n",
    "    'learning_rate_init' : [0.1,0.3,0.5]\n",
    "}\n",
    "clf = GridSearchCV(iris, space, n_jobs=-1, cv=3)\n",
    "clf.fit(X_train, y_train)\n",
    "y_pred = clf.predict(X_test)"
   ]
  },
  {
   "cell_type": "code",
   "execution_count": 54,
   "metadata": {},
   "outputs": [
    {
     "name": "stdout",
     "output_type": "stream",
     "text": [
      "Best parameters :\n",
      "\t activation  :  tanh\n",
      "\t hidden_layer_sizes  :  (100,)\n",
      "\t learning_rate  :  constant\n",
      "\t learning_rate_init  :  0.1\n",
      "\t momentum  :  0.7\n",
      "Report:\n",
      "              precision    recall  f1-score   support\n",
      "\n",
      "           0       1.00      1.00      1.00         7\n",
      "           1       1.00      1.00      1.00        13\n",
      "           2       1.00      1.00      1.00        10\n",
      "\n",
      "    accuracy                           1.00        30\n",
      "   macro avg       1.00      1.00      1.00        30\n",
      "weighted avg       1.00      1.00      1.00        30\n",
      "\n"
     ]
    }
   ],
   "source": [
    "# Report best accuracy and params\n",
    "print(\"Best parameters :\")\n",
    "for param in clf.best_params_.keys():\n",
    "    print(\"\\t\",param, \" : \", clf.best_params_[param])\n",
    "print(\"Report:\")\n",
    "print(classification_report(y_test, y_pred))"
   ]
  },
  {
   "cell_type": "markdown",
   "metadata": {
    "id": "cTlK-kijk8Mg"
   },
   "source": [
    "## 5. (Optional 5% Extra credit) For the vowel data set, use the other hyper-parameter approach that you did not use in part 4.2 to find LR, # of hidden nodes, and momentum.  \n",
    "\n",
    "- Compare and discuss the values found with the ones you found in part 3.\n"
   ]
  },
  {
   "cell_type": "code",
   "execution_count": 57,
   "metadata": {},
   "outputs": [],
   "source": [
    "from sklearn.model_selection import RandomizedSearchCV\n",
    "\n",
    "# Random search\n",
    "np_vowel = np.array(vowel_df)\n",
    "X = np_vowel[:,:-1]\n",
    "y = np_vowel[:,-1]\n",
    "X_train, X_test, y_train, y_test = train_test_split(X, y, test_size = 0.2)\n",
    "\n",
    "space = {\n",
    "    'hidden_layer_sizes' : [(50,100,50,),(100,),(50,)],\n",
    "    'activation' : ['tanh', 'logistic','relu'],\n",
    "    'momentum' : [0.3, 0.7, 0.9],\n",
    "    'learning_rate': ['constant','adaptive'],\n",
    "    'learning_rate_init' : [0.1,0.3,0.5]\n",
    "}\n",
    "\n",
    "vowel = MLPClassifier(max_iter=1000)\n",
    "clf = RandomizedSearchCV(vowel, space, n_jobs=-1, cv=2)\n",
    "clf.fit(X_train, y_train)\n",
    "y_pred = clf.predict(X_test)"
   ]
  },
  {
   "cell_type": "code",
   "execution_count": 58,
   "metadata": {},
   "outputs": [
    {
     "name": "stdout",
     "output_type": "stream",
     "text": [
      "Best parameters :\n",
      "\t momentum  :  0.9\n",
      "\t learning_rate_init  :  0.1\n",
      "\t learning_rate  :  adaptive\n",
      "\t hidden_layer_sizes  :  (100,)\n",
      "\t activation  :  relu\n",
      "Report:\n",
      "              precision    recall  f1-score   support\n",
      "\n",
      "         hAd       1.00      0.71      0.83        14\n",
      "         hEd       0.95      1.00      0.98        20\n",
      "         hId       1.00      0.95      0.98        21\n",
      "         hOd       0.90      1.00      0.95        19\n",
      "         hUd       0.81      1.00      0.89        17\n",
      "         hYd       0.89      0.94      0.91        17\n",
      "         had       0.82      0.88      0.85        16\n",
      "         hed       0.93      1.00      0.97        14\n",
      "         hid       1.00      1.00      1.00        20\n",
      "         hod       1.00      0.95      0.97        19\n",
      "         hud       1.00      0.81      0.89        21\n",
      "\n",
      "    accuracy                           0.93       198\n",
      "   macro avg       0.94      0.93      0.93       198\n",
      "weighted avg       0.94      0.93      0.93       198\n",
      "\n"
     ]
    }
   ],
   "source": [
    "# Report best accuracy and params\n",
    "print(\"Best parameters :\")\n",
    "for param in clf.best_params_.keys():\n",
    "    print(\"\\t\",param, \" : \", clf.best_params_[param])\n",
    "print(\"Report:\")\n",
    "print(classification_report(y_test, y_pred))"
   ]
  },
  {
   "cell_type": "markdown",
   "metadata": {
    "id": "BqSFAXwlk3Ms"
   },
   "source": [
    "First of all, the best activation function found was different than the sigmoid function. The random search found 'relu' to be the best which is the rectified linear unif function.\n",
    "From part 3.3, I found the momentum rate of about 0.9 was the fit, and the search method found it also as 0.9. The hidden layer sizes was more than I used in part 3, and the same adaptive learning rate as 0.1. Overall, I think the accuracy score was better from the parameters that the random search found than mine."
   ]
  }
 ],
 "metadata": {
  "colab": {
   "collapsed_sections": [],
   "name": "lab 1 - perceptron",
   "provenance": []
  },
  "kernelspec": {
   "display_name": "Python 3",
   "language": "python",
   "name": "python3"
  },
  "language_info": {
   "codemirror_mode": {
    "name": "ipython",
    "version": 3
   },
   "file_extension": ".py",
   "mimetype": "text/x-python",
   "name": "python",
   "nbconvert_exporter": "python",
   "pygments_lexer": "ipython3",
   "version": "3.7.6"
  }
 },
 "nbformat": 4,
 "nbformat_minor": 4
}
